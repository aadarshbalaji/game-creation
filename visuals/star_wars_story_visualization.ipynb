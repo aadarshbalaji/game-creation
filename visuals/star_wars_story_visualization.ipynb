{
 "cells": [
  {
   "cell_type": "code",
   "execution_count": 71,
   "metadata": {},
   "outputs": [],
   "source": [
    "# !pip install plotly networkx ipywidgets --quiet   # run once\n",
    "import json, textwrap, networkx as nx, plotly.graph_objects as go\n",
    "from collections import defaultdict\n",
    "from IPython.display import display\n"
   ]
  },
  {
   "cell_type": "markdown",
   "metadata": {},
   "source": [
    "## Load Story Data\n",
    "\n",
    "Let's load the story data from the JSON file."
   ]
  },
  {
   "cell_type": "code",
   "execution_count": 72,
   "metadata": {},
   "outputs": [],
   "source": [
    "def wrap_text(txt, width=40):\n",
    "    return \"<br>\".join(textwrap.wrap(txt, width))\n",
    "\n",
    "def load_story_json(path):\n",
    "    with open(path, 'r') as f:\n",
    "        return json.load(f)\n",
    "\n",
    "def build_story_graph(story_dict):\n",
    "    \"\"\"\n",
    "    Returns:  G (DiGraph), node_attrs {id: {...}}, root\n",
    "    \"\"\"\n",
    "    nodes = story_dict[\"graph\"]\n",
    "    G          = nx.DiGraph()\n",
    "    node_attrs = {}\n",
    "\n",
    "    visited_set = set()\n",
    "    # support either per-node \"visited\": true  OR story_state[\"visited_nodes\"]\n",
    "    if \"story_state\" in story_dict and \"visited_nodes\" in story_dict[\"story_state\"]:\n",
    "        visited_set |= {str(n) for n in story_dict[\"story_state\"][\"visited_nodes\"]}\n",
    "\n",
    "    for nid, data in nodes.items():\n",
    "        G.add_node(nid)\n",
    "        # ➊  —  push a normalised boolean into attrs for easy use later\n",
    "        data[\"__visited\"] = data.get(\"visited\", False) or (nid in visited_set)\n",
    "        node_attrs[nid] = data\n",
    "        # infer edges from children\n",
    "        for child in data.get(\"children\", []):\n",
    "            G.add_edge(nid, child)\n",
    "\n",
    "    root = \"node_0\"  # or however you define the root\n",
    "    return G, node_attrs, root\n",
    "\n",
    "    \"\"\"\n",
    "    Returns:  G (DiGraph), node_attrs {id: {...}}, root\n",
    "    Edge rule: a node is parent of any node whose ID starts with its ID + '_' .\n",
    "    \"\"\"\n",
    "    nodes = story_dict[\"graph\"][\"nodes\"]\n",
    "    G          = nx.DiGraph()\n",
    "    node_attrs = {}\n",
    "    \n",
    "    # add nodes with rich attrs\n",
    "    for node_id, data in nodes.items():\n",
    "        G.add_node(node_id)\n",
    "        node_attrs[node_id] = data\n",
    "    \n",
    "    # infer edges via ID-prefix convention\n",
    "    for child in G.nodes:\n",
    "        if '_' in child:\n",
    "            parent = child.rsplit('_', 1)[0]\n",
    "            if parent in G:\n",
    "                G.add_edge(parent, child)\n",
    "    root = \"node_0\"\n",
    "    return G, node_attrs, root\n"
   ]
  },
  {
   "cell_type": "code",
   "execution_count": 73,
   "metadata": {},
   "outputs": [],
   "source": [
    "def bfs_layout(G, root=\"node_0\"):\n",
    "    levels = defaultdict(list)\n",
    "    for node in nx.bfs_tree(G, root):\n",
    "        lvl = nx.shortest_path_length(G, root, node)\n",
    "        levels[lvl].append(node)\n",
    "\n",
    "    pos = {}\n",
    "    for lvl, nodes in levels.items():\n",
    "        for i, n in enumerate(sorted(nodes)):\n",
    "            y = i - (len(nodes)-1)/2        # center each level on y=0\n",
    "            pos[n] = (lvl, y)\n",
    "    return pos\n"
   ]
  },
  {
   "cell_type": "code",
   "execution_count": 74,
   "metadata": {},
   "outputs": [],
   "source": [
    "import re, networkx as nx\n",
    "from collections import defaultdict\n",
    "\n",
    "def natural_key(s):\n",
    "    # 'node_0_12_3' → ['node_',0,'_',12,'_',3] so numeric parts sort correctly\n",
    "    return [int(t) if t.isdigit() else t for t in re.split(r'(\\d+)', s)]\n",
    "\n",
    "def flat_tree_layout(G, root=\"node_0\", x_gap=2.0, y_gap=1.4):\n",
    "    \"\"\"Return {node: (x,y)} with:\n",
    "       • x = depth * x_gap\n",
    "       • y = centred siblings; if a node has one child, child keeps same y\n",
    "    \"\"\"\n",
    "    # group by depth\n",
    "    levels = defaultdict(list)\n",
    "    for n in nx.bfs_tree(G, root):\n",
    "        levels[nx.shortest_path_length(G, root, n)].append(n)\n",
    "\n",
    "    pos = {}\n",
    "    for depth in sorted(levels):\n",
    "        level_nodes = sorted(levels[depth], key=natural_key)\n",
    "        mid = (len(level_nodes) - 1) / 2\n",
    "        for idx, n in enumerate(level_nodes):\n",
    "            # inherit y if this edge is part of a chain\n",
    "            parent = next(iter(G.predecessors(n)), None)\n",
    "            if parent and len(list(G.successors(parent))) == 1:\n",
    "                y = pos[parent][1]\n",
    "            else:\n",
    "                y = (idx - mid) * y_gap\n",
    "            pos[n] = (depth * x_gap, y)\n",
    "    return pos\n"
   ]
  },
  {
   "cell_type": "code",
   "execution_count": 75,
   "metadata": {},
   "outputs": [],
   "source": [
    "def format_hover(node):\n",
    "    \"\"\"Return a multi-line HTML hover string for a scene node.\"\"\"\n",
    "    data = node.copy()                       # shallow copy\n",
    "    ss   = data.get(\"scene_state\", {})\n",
    "    chars = data.get(\"characters\", {})\n",
    "    out   = data.get(\"outcome\", {})\n",
    "\n",
    "    # header line\n",
    "    lines = [f\"<b>{ss.get('location','Unknown')}</b> \"\n",
    "             f\"({ss.get('time_of_day','?')}, {ss.get('weather','?')})\"]\n",
    "\n",
    "    # end-scene tag\n",
    "    if data.get(\"is_end\"):\n",
    "        lines.append(\"<span style='color:#CC0000'><b>END NODE</b></span>\")\n",
    "\n",
    "    # short story preview\n",
    "    story_preview = wrap_text(data.get(\"story\", \"\"), width=40)\n",
    "    lines.append(f\"<i>{story_preview}</i>\")\n",
    "\n",
    "    # characters\n",
    "    if chars:\n",
    "        lines.append(\"<b>Characters:</b>\")\n",
    "        for cname, cinfo in chars.items():\n",
    "            role = cinfo.get(\"type\",\"\")\n",
    "            mood = cinfo.get(\"mood\",\"\")\n",
    "            hp   = cinfo.get(\"health\", \"?\")\n",
    "            lines.append(f\"• {cname} ({role}, {mood}, HP {hp})\")\n",
    "\n",
    "    # outcome\n",
    "    if out:\n",
    "        delta = []\n",
    "        if out.get(\"health_change\"):     delta.append(f\"HP {out['health_change']:+}\")\n",
    "        if out.get(\"experience_change\"): delta.append(f\"XP {out['experience_change']:+}\")\n",
    "        inv = out.get(\"inventory_changes\", [])\n",
    "        if inv: delta.append(f\"Inv ±{len(inv)}\")\n",
    "        if delta:\n",
    "            lines.append(\"<b>Outcome:</b> \" + \", \".join(delta))\n",
    "\n",
    "    return \"<br>\".join(lines)\n"
   ]
  },
  {
   "cell_type": "code",
   "execution_count": 76,
   "metadata": {},
   "outputs": [],
   "source": [
    "import plotly.graph_objects as go\n",
    "\n",
    "def story_fig(G, node_data, pos, highlight=None, title=\"Interactive Story\"):\n",
    "    highlight = set(str(h) for h in (highlight or []))\n",
    "\n",
    "    # ---- squares (scenes) ----\n",
    "    sx, sy, stxt, shover, scol = [], [], [], [], []\n",
    "    for nid, (x,y) in pos.items():\n",
    "        sx.append(x);  sy.append(y)\n",
    "        stxt.append(f\"ID: {nid.split('_')[-1]}\")\n",
    "        shover.append(format_hover(node_data[nid]))     # ← new rich hover text\n",
    "\n",
    "        if nid in highlight:                 colour = \"#FF9966\"   # orange\n",
    "        elif node_data[nid].get(\"__visited\"): colour = \"#32CD32\"   # lime\n",
    "        else:                                colour = \"#A0CBE8\"   # blue\n",
    "        scol.append(colour)\n",
    "\n",
    "    scene_trace = go.Scatter(\n",
    "        x=sx, y=sy, mode=\"markers+text\",\n",
    "        marker=dict(symbol=\"square\", size=22, color=scol),\n",
    "        text=stxt, textposition=\"top center\",\n",
    "        hovertext=shover, hoverinfo=\"text\",\n",
    "        name=\"Scenes\"\n",
    "    )\n",
    "\n",
    "    # ---- circles (choice mid-points) ----\n",
    "    cx, cy, chover = [], [], []\n",
    "    for u,v in G.edges:\n",
    "        (x0,y0), (x1,y1) = pos[u], pos[v]\n",
    "        cx.append((x0+x1)/2);  cy.append((y0+y1)/2)\n",
    "        chover.append(f\"{u} → {v}\")\n",
    "\n",
    "    choice_trace = go.Scatter(\n",
    "        x=cx, y=cy, mode=\"markers\",\n",
    "        marker=dict(symbol=\"circle\", size=15, color=\"#FFDAC1\"),\n",
    "        hovertext=chover, hoverinfo=\"text\",\n",
    "        name=\"Choices\"\n",
    "    )\n",
    "\n",
    "    # ---- arrows ----\n",
    "    arrows = []\n",
    "    for u,v in G.edges:\n",
    "        x0,y0 = pos[u];  x1,y1 = pos[v]\n",
    "        arrows.append(dict(\n",
    "            x=x1, y=y1, ax=x0, ay=y0,\n",
    "            xref=\"x\", yref=\"y\", axref=\"x\", ayref=\"y\",\n",
    "            showarrow=True, arrowhead=2, arrowwidth=1,\n",
    "            arrowsize=1, arrowcolor=\"black\", opacity=.5\n",
    "        ))\n",
    "\n",
    "    # ---- figure ----\n",
    "    fig = go.Figure([scene_trace, choice_trace])\n",
    "    # legend swatch for visited\n",
    "    fig.add_trace(go.Scatter(\n",
    "        x=[None], y=[None], mode=\"markers\",\n",
    "        marker=dict(symbol=\"square\", size=18, color=\"#32CD32\"),\n",
    "        showlegend=True, name=\"Visited\"\n",
    "    ))\n",
    "    fig.update_layout(\n",
    "        title=title, annotations=arrows,\n",
    "        xaxis=dict(visible=False), yaxis=dict(visible=False),\n",
    "        hovermode=\"closest\", plot_bgcolor=\"white\", paper_bgcolor=\"white\",\n",
    "        margin=dict(l=40,r=40,t=60,b=40)\n",
    "    )\n",
    "    fig.update_traces(cliponaxis=False)\n",
    "    return fig\n"
   ]
  },
  {
   "cell_type": "code",
   "execution_count": 77,
   "metadata": {},
   "outputs": [
    {
     "data": {
      "application/vnd.plotly.v1+json": {
       "config": {
        "plotlyServerURL": "https://plot.ly"
       },
       "data": [
        {
         "cliponaxis": false,
         "hoverinfo": "text",
         "hovertext": [
          "<b>Ancient Ruins</b> (day, rainy)<br><i>The Monastery of Spinjitzu buzzes with<br>life. Banners depicting the Ninja – Kai,<br>Jay, Zane, Cole, and Nya – flutter in<br>the wind, celebrating their countless<br>victories. You, a newly-trained<br>initiate, stand on the periphery, heart<br>pounding with a mixture of excitement<br>and nervousness. Sensei Wu, his eyes<br>twinkling with pride, begins his<br>address, recounting the brave deeds of<br>his students. Suddenly, the air crackles<br>with dark energy. A shadowy figure,<br>cloaked and masked, bursts into the<br>courtyard, scattering the assembled<br>crowd. In a flash of obsidian, the<br>figure snatches the Dragon Eye, a gem<br>radiating ancient power, from its<br>pedestal. Sensei Wu lunges to intervene,<br>but the attacker is too swift. A dark<br>energy blast sends the Sensei crashing<br>to the ground. Chaos erupts as the<br>attacker vanishes into the swirling<br>smoke. You rush to Sensei Wu's side. His<br>breaths are shallow, and his voice<br>raspy. \"The Dragon Eye… the Obsidian<br>Dragon… you must… stop them…\" He<br>clutches your hand, his gaze intense.<br>\"You are the sixth… the last hope… Find<br>the thief… before Ninjago is consumed by<br>darkness…\"</i><br><b>Characters:</b><br>• Mysterious Adversary (enemy, hostile, HP 70)<br>• player (, determined, HP 100)<br><b>Outcome:</b> HP -1, XP +20",
          "<b>Crystal Caves</b> (day, clear)<br><i>Rush to Sensei Wu's side and demand more<br>information.</i><br><b>Characters:</b><br>• Local Inhabitant (neutral, cautious, HP 50)<br>• player (, determined, HP 100)<br><b>Outcome:</b> XP +30",
          "<b>Misty Lake</b> (day, clear)<br><i>Give chase to the shadowy figure.</i><br><b>Characters:</b><br>• Local Inhabitant (neutral, cautious, HP 50)<br><b>Outcome:</b> XP +10",
          "<b>Forgotten Sanctuary</b> (day, clear)<br><i>Heal Sensei Wu: Focus your nascent<br>elemental energy, attempting to mend his<br>wounds, even though you're unsure of<br>your abilities.</i><br><b>Characters:</b><br>• Mysterious Adversary (enemy, hostile, HP 70)<br><b>Outcome:</b> HP -1",
          "<b>Ship</b> (day, clear)<br><i>Examine the Scene: Ignore Sensei Wu's<br>immediate distress and quickly search<br>for clues about the attacker and the<br>stolen Dragon Eye.</i><br><b>Characters:</b><br>• Mysterious Adversary (enemy, hostile, HP 70)<br>• player (, determined, HP 95)<br><b>Outcome:</b> HP -1, XP +10",
          "<b>Forgotten Sanctuary</b> (day, clear)<br><i>Leap Across the Courtyard: Use your<br>newly learned agility to take a direct<br>shortcut, potentially gaining ground but<br>risking a fall.</i><br><b>Characters:</b><br>• Wandering Helper (ally, friendly, HP 60)<br><b>Outcome:</b> XP +30",
          "<b>Misty Lake</b> (day, rainy)<br><i>Dash Through the Training Grounds: Take<br>the slightly longer, but safer, route<br>through the familiar obstacle course,<br>utilizing your training to navigate<br>quickly.</i><br><b>Characters:</b><br>• Local Inhabitant (neutral, cautious, HP 50)<br><b>Outcome:</b> HP +1, XP +10",
          "<b>Hidden Valley</b> (day, clear)<br><span style='color:#CC0000'><b>END NODE</b></span><br><i>Focus all your energy into a<br>concentrated burst of healing,<br>channeling your elemental power directly<br>into Sensei Wu's wounds, risking your<br>own exhaustion.</i><br><b>Characters:</b><br>• Mysterious Adversary (enemy, hostile, HP 70)<br><b>Outcome:</b> HP -7, XP +20",
          "<b>Ship</b> (day, clear)<br><span style='color:#CC0000'><b>END NODE</b></span><br><i>Search the Monastery for a mystical<br>artifact capable of healing Sensei Wu,<br>venturing into the forbidden library<br>despite the immediate danger of the<br>partially resurrected dragon's attacks.</i><br><b>Characters:</b><br>• Wandering Helper (ally, friendly, HP 60)<br><b>Outcome:</b> XP +30",
          "<b>Misty Lake</b> (day, clear)<br><span style='color:#CC0000'><b>END NODE</b></span><br><i>Focus on Sensei Wu: Use your basic<br>healing techniques to stabilize Sensei<br>Wu, hoping he can provide vital<br>information about the attacker before<br>it's too late.</i><br><b>Characters:</b><br>• Wandering Helper (ally, friendly, HP 60)<br><b>Outcome:</b> HP -2, XP +30",
          "<b>Misty Lake</b> (day, clear)<br><span style='color:#CC0000'><b>END NODE</b></span><br><i>Investigate the Point of Entry: Scour<br>the breached monastery wall and<br>surrounding area for any lingering clues<br>– footprints, dropped objects, or traces<br>of elemental energy – that could reveal<br>the attacker's escape route and<br>identity.</i><br><b>Characters:</b><br>• Local Inhabitant (neutral, cautious, HP 50)",
          "<b>Crystal Caves</b> (day, clear)<br><span style='color:#CC0000'><b>END NODE</b></span><br><i>Leap Across the Courtyard: Use your<br>newly learned agility to take a direct<br>shortcut, potentially gaining ground but<br>risking a fall.</i><br><b>Characters:</b><br>• Wandering Helper (ally, friendly, HP 60)<br>• Local Inhabitant (neutral, cautious, HP 50)<br><b>Outcome:</b> XP +30",
          "<b>Ancient Ruins</b> (day, clear)<br><span style='color:#CC0000'><b>END NODE</b></span><br><i>Follow the Main Path: Stick to the known<br>route, a longer but safer option,<br>keeping an eye out for traps or<br>ambushes.</i><br><b>Characters:</b><br>• Quiet Observer (neutral, observant, HP 55)<br><b>Outcome:</b> HP -2, XP +30",
          "<b>Crystal Caves</b> (day, rainy)<br><span style='color:#CC0000'><b>END NODE</b></span><br><i>Leap Across the Chasm: Trust your<br>Airjitzu training and take a shortcut,<br>risking a fall but potentially gaining<br>valuable time and outmaneuvering<br>pursuers.</i><br><b>Characters:</b><br>• Wandering Helper (ally, friendly, HP 60)<br><b>Outcome:</b> HP -1",
          "<b>Hidden Valley</b> (day, clear)<br><span style='color:#CC0000'><b>END NODE</b></span><br><i>Engage the Shadow Assassins: Confront<br>the pursuing Shadow Assassins guarding<br>the grounds, clearing a path and<br>potentially learning their tactics, but<br>risking injuries and slowing your<br>progress.</i><br><b>Characters:</b><br>• Wandering Helper (ally, friendly, HP 60)<br><b>Outcome:</b> XP +20",
          "<b>Hidden Valley</b> (day, rainy)<br><span style='color:#CC0000'><b>END NODE</b></span><br><i>The Obsidian Dragon's shadow still<br>loomed, but with a final surge, the<br>player focused their elemental power,<br>every ounce of their being directed into<br>healing Sensei Wu. He gasped, color<br>returning to his face as the elixir,<br>supplemented by the player's energy,<br>worked its miracle. Though utterly<br>drained and weakened by the exertion,<br>the player watched as Sensei Wu rose, a<br>renewed strength in his eyes, ready to<br>guide the Ninja towards a final,<br>decisive confrontation, his wisdom the<br>key to vanquishing the ancient evil.</i><br><b>Characters:</b><br>• Local Inhabitant (neutral, cautious, HP 50)<br><b>Outcome:</b> XP +200",
          "<b>Ship</b> (day, clear)<br><span style='color:#CC0000'><b>END NODE</b></span><br><i>Despite the player's sacrifice, the<br>Obsidian Dragon's dark influence was too<br>pervasive. The player's concentrated<br>healing bought Sensei Wu a few precious<br>moments, enough for him to impart a<br>final, cryptic instruction before<br>succumbing to his injuries. With his<br>last breath, he entrusted the fate of<br>Ninjago to the player, leaving them<br>burdened with the weight of leadership<br>and the daunting task of facing the<br>Obsidian Dragon alone, guided only by<br>Wu's fading wisdom.</i><br><b>Characters:</b><br>• Wandering Helper (ally, friendly, HP 60)<br><b>Outcome:</b> HP +25, XP +400, Inv ±1",
          "<b>Ancient Ruins</b> (day, clear)<br><span style='color:#CC0000'><b>END NODE</b></span><br><i>Within the forbidden library, amidst<br>crumbling scrolls and dusty tomes, you<br>discover the Scroll of Celestial<br>Healing. Deciphering its ancient<br>symbols, you race back to Sensei Wu,<br>channeling the scroll's energy to mend<br>his wounds just as the Obsidian Dragon's<br>shadow falls upon the monastery. Sensei<br>Wu, revitalized, joins you in a final<br>stand, his wisdom and guidance proving<br>crucial in vanquishing the dragon and<br>restoring balance to Ninjago.</i><br><b>Characters:</b><br>• Wandering Helper (ally, friendly, HP 60)<br><b>Outcome:</b> HP +25, XP +400, Inv ±1",
          "<b>Misty Lake</b> (day, clear)<br><span style='color:#CC0000'><b>END NODE</b></span><br><i>Desperate, you delve deeper into the<br>forbidden library, finally locating the<br>Tears of the First Spinjitzu Master,<br>said to possess unparalleled healing<br>properties. Returning to Sensei Wu, you<br>administer the tears, but the Obsidian<br>Dragon's assault on the monastery has<br>taken its toll. Sensei Wu, though<br>granted a moment of clarity, succumbs to<br>his injuries, using his last breath to<br>impart vital knowledge about the<br>dragon's weakness, leaving you to face<br>the final battle with the weight of his<br>legacy upon your shoulders.</i><br><b>Characters:</b><br>• Wandering Helper (ally, friendly, HP 60)<br><b>Outcome:</b> HP -10, XP +250, Inv ±1",
          "<b>Cave</b> (day, clear)<br><span style='color:#CC0000'><b>END NODE</b></span><br><i>Focusing your energy, you manage to<br>stabilize Sensei Wu, his breathing<br>becoming less ragged. With a weak but<br>knowing smile, he rasps, \"The Dragon<br>Eye... vulnerable to pure light... the<br>Caves of Reflection...\" Before you can<br>ask more, he slips into unconsciousness,<br>but the path is clear: the Obsidian<br>Caves of Reflection hold the key to the<br>Dragon Eye's destruction, and Ninjago's<br>only hope.</i><br><b>Characters:</b><br>• Wandering Helper (ally, friendly, HP 60)<br><b>Outcome:</b> HP +25, XP +400, Inv ±1",
          "<b>Misty Lake</b> (day, clear)<br><span style='color:#CC0000'><b>END NODE</b></span><br><i>Despite your best efforts, Sensei Wu's<br>life ebbs away. His last words, barely a<br>whisper, echo in your mind: \"He was…<br>once one of us… blinded by ambition…<br>find balance...\" The weight of his loss<br>crushes you, but his cryptic final<br>guidance steels your resolve. Knowing<br>the attacker's connection to the Ninja's<br>past and the need to maintain balance<br>will be crucial in the battles to come.</i><br><b>Characters:</b><br>• Local Inhabitant (neutral, cautious, HP 50)<br><b>Outcome:</b> XP +200",
          "<b>Forest</b> (day, clear)<br><span style='color:#CC0000'><b>END NODE</b></span><br><i>Examining the shattered stone, the faint<br>scent of shadow energy lingers. A barely<br>perceptible trail leads away from the<br>monastery, not towards Ninjago City, but<br>deeper into the Whispering Woods.<br>Knowing the danger, the player, driven<br>by duty, makes the choice to follow,<br>unaware they are walking directly into<br>the lair of the one responsible for the<br>attack, the corrupt monk Ronin, who<br>awaits to ambush.</i><br><b>Characters:</b><br>• Local Inhabitant (neutral, cautious, HP 50)<br><b>Outcome:</b> XP +200",
          "<b>Forgotten Sanctuary</b> (day, clear)<br><span style='color:#CC0000'><b>END NODE</b></span><br><i>A closer inspection of the breached wall<br>reveals not only brute force, but subtle<br>scorch marks indicative of Fire<br>manipulation. Focusing, the player<br>recognizes a unique elemental signature<br>– one belonging to Pythor P. Chumsworth,<br>resurrected and seeking revenge.<br>Realizing the Serpentine's involvement,<br>the player knows the quest for the<br>Dragon Eye will lead through the<br>perilous Serpentine tombs and towards a<br>confrontation with a familiar foe, where<br>they must outsmart Pythor to reclaim the<br>Eye and prevent the Obsidian Dragon's<br>rise.</i><br><b>Characters:</b><br>• Mysterious Adversary (enemy, hostile, HP 70)<br>• Wandering Helper (ally, friendly, HP 60)<br><b>Outcome:</b> HP +25, XP +400, Inv ±1",
          "<b>Forgotten Sanctuary</b> (day, clear)<br><span style='color:#CC0000'><b>END NODE</b></span><br><i>Taking the risky leap, you land<br>perfectly on the other side, a surge of<br>adrenaline fueling your resolve. You<br>reach the heart of the monastery just as<br>the Obsidian Dragon's shadow engulfs it.<br>Sensei Wu, weakened but defiant,<br>channels the last of his energy,<br>granting you a final, devastating strike<br>that shatters the Dragon's form and<br>restores balance to Ninjago.</i><br><b>Characters:</b><br>• Local Guide (neutral, knowledgeable, HP 55)<br><b>Outcome:</b> HP -10, XP +250, Inv ±1",
          "<b>Hidden Valley</b> (day, clear)<br><span style='color:#CC0000'><b>END NODE</b></span><br><i>The shortcut proves too treacherous. You<br>stumble mid-leap, barely managing to<br>grab onto a crumbling ledge. Though<br>bruised and delayed, you regain your<br>footing, arriving at the monastery to<br>find it in ruins. Sensei Wu's final gift<br>becomes a desperate gamble as you face<br>the Obsidian Dragon, your resilience and<br>determination the only thing standing<br>between Ninjago and utter destruction.</i><br><b>Characters:</b><br>• Wandering Helper (ally, friendly, HP 60)<br><b>Outcome:</b> HP +25, XP +400, Inv ±1",
          "<b>Forgotten Sanctuary</b> (day, clear)<br><span style='color:#CC0000'><b>END NODE</b></span><br><i>Following the main path proved wise;<br>though arduous, it allowed the Ninja to<br>reach the Obsidian Dragon before it<br>could fully regenerate its power. Using<br>Sensei Wu's final gift, the player<br>unleashed a focused burst of pure<br>elemental energy, shattering the<br>Dragon's physical form and banishing its<br>spirit back to the void, at the cost of<br>the Obsidian Shard's power. With Ninjago<br>safe and Sensei Wu saved by the Elixir,<br>the Ninja continued his legacy, stronger<br>and united, ready to face any future<br>threat.</i><br><b>Characters:</b><br>• Local Inhabitant (neutral, cautious, HP 50)<br><b>Outcome:</b> XP +200",
          "<b>Misty Lake</b> (day, clear)<br><span style='color:#CC0000'><b>END NODE</b></span><br><i>Choosing the main path offered a<br>predictable, yet ultimately insufficient<br>defense. The fully resurrected Obsidian<br>Dragon, its power overwhelming, proved<br>too strong despite Sensei Wu's final<br>gift. Ninjago crumbled under its shadow.<br>Though Sensei Wu was saved, a heavy<br>weight fell on the ninja as they<br>realized what was lost, vowing to learn<br>from this defeat and prepare for the<br>Dragon's inevitable return.</i><br><b>Characters:</b><br>• Local Guide (neutral, knowledgeable, HP 55)<br><b>Outcome:</b> HP -10, XP +250, Inv ±1",
          "<b>Forgotten Sanctuary</b> (day, windy)<br><span style='color:#CC0000'><b>END NODE</b></span><br><i>With a surge of focus, you harness the<br>power of Airjitzu, leaping across the<br>chasm. You land gracefully on the other<br>side, the wind swirling around you.<br>Looking back, you see your pursuers<br>struggle to find another path, giving<br>you the precious moments needed to reach<br>Sensei Wu. His life is saved, and<br>Ninjago is safe once more.</i><br><b>Characters:</b><br>• Local Inhabitant (neutral, cautious, HP 50)<br><b>Outcome:</b> XP +200",
          "<b>Ancient Ruins</b> (day, windy)<br><span style='color:#CC0000'><b>END NODE</b></span><br><i>Confidence turns to terror as the<br>Airjitzu falters mid-leap. You plummet<br>into the chasm, the wind knocked from<br>your lungs. Though battered and bruised,<br>you manage to climb out, but the delay<br>proves fatal. You arrive at the<br>Monastery too late; Sensei Wu is gone,<br>and Ninjago mourns the loss of its wise<br>leader.</i><br><b>Characters:</b><br>• Wandering Helper (ally, friendly, HP 60)<br><b>Outcome:</b> HP +25, XP +400, Inv ±1",
          "<b>Hidden Valley</b> (day, clear)<br><span style='color:#CC0000'><b>END NODE</b></span><br><i>The clash with the Shadow Assassins was<br>brutal, but ultimately successful.<br>Wounded and weary, you press onward,<br>their tactics now understood and<br>somewhat incorporated into your own<br>fighting style. However, the delay<br>proves costly. You arrive at the final<br>confrontation with the Obsidian Dragon<br>weakened, leaving you at a significant<br>disadvantage in the fight for Ninjago's<br>survival.</i><br><b>Characters:</b><br>• Local Guide (neutral, knowledgeable, HP 55)<br><b>Outcome:</b> HP -10, XP +250, Inv ±1",
          "<b>Crystal Caves</b> (day, windy)<br><span style='color:#CC0000'><b>END NODE</b></span><br><i>The shadow assassins underestimated your<br>resolve. Cutting through them like a<br>whirlwind, you gained valuable insight<br>into their techniques while suffering<br>minimal delays. Empowered by your<br>victory, you arrived at the heart of the<br>final battle, confident and ready to<br>face the Obsidian Dragon, the power of<br>your prior victories a blessing.</i><br><b>Characters:</b><br>• Local Inhabitant (neutral, cautious, HP 50)<br><b>Outcome:</b> XP +200"
         ],
         "marker": {
          "color": [
           "#FF9966",
           "#32CD32",
           "#A0CBE8",
           "#A0CBE8",
           "#32CD32",
           "#A0CBE8",
           "#A0CBE8",
           "#A0CBE8",
           "#A0CBE8",
           "#A0CBE8",
           "#32CD32",
           "#A0CBE8",
           "#A0CBE8",
           "#A0CBE8",
           "#A0CBE8",
           "#A0CBE8",
           "#A0CBE8",
           "#A0CBE8",
           "#A0CBE8",
           "#A0CBE8",
           "#A0CBE8",
           "#A0CBE8",
           "#A0CBE8",
           "#A0CBE8",
           "#A0CBE8",
           "#A0CBE8",
           "#A0CBE8",
           "#A0CBE8",
           "#A0CBE8",
           "#A0CBE8",
           "#A0CBE8"
          ],
          "size": 22,
          "symbol": "square"
         },
         "mode": "markers+text",
         "name": "Scenes",
         "text": [
          "ID: 0",
          "ID: 1",
          "ID: 2",
          "ID: 1",
          "ID: 2",
          "ID: 1",
          "ID: 2",
          "ID: 1",
          "ID: 2",
          "ID: 1",
          "ID: 2",
          "ID: 1",
          "ID: 2",
          "ID: 1",
          "ID: 2",
          "ID: 1",
          "ID: 2",
          "ID: 1",
          "ID: 2",
          "ID: 1",
          "ID: 2",
          "ID: 1",
          "ID: 2",
          "ID: 1",
          "ID: 2",
          "ID: 1",
          "ID: 2",
          "ID: 1",
          "ID: 2",
          "ID: 1",
          "ID: 2"
         ],
         "textposition": "top center",
         "type": "scatter",
         "x": [
          0,
          -0.7,
          0.7,
          -2.0999999999999996,
          -0.7,
          0.7,
          2.0999999999999996,
          -4.8999999999999995,
          -3.5,
          -2.0999999999999996,
          -0.7,
          0.7,
          2.0999999999999996,
          3.5,
          4.8999999999999995,
          -10.5,
          -9.1,
          -7.699999999999999,
          -6.3,
          -4.8999999999999995,
          -3.5,
          -2.0999999999999996,
          -0.7,
          0.7,
          2.0999999999999996,
          3.5,
          4.8999999999999995,
          6.3,
          7.699999999999999,
          9.1,
          10.5
         ],
         "y": [
          0,
          -2,
          -2,
          -4,
          -4,
          -4,
          -4,
          -6,
          -6,
          -6,
          -6,
          -6,
          -6,
          -6,
          -6,
          -8,
          -8,
          -8,
          -8,
          -8,
          -8,
          -8,
          -8,
          -8,
          -8,
          -8,
          -8,
          -8,
          -8,
          -8,
          -8
         ]
        },
        {
         "cliponaxis": false,
         "hoverinfo": "text",
         "hovertext": [
          "node_0 → node_0_1",
          "node_0 → node_0_2",
          "node_0_1 → node_0_1_1",
          "node_0_1 → node_0_1_2",
          "node_0_2 → node_0_2_1",
          "node_0_2 → node_0_2_2",
          "node_0_1_1 → node_0_1_1_1",
          "node_0_1_1 → node_0_1_1_2",
          "node_0_1_2 → node_0_1_2_1",
          "node_0_1_2 → node_0_1_2_2",
          "node_0_2_1 → node_0_2_1_1",
          "node_0_2_1 → node_0_2_1_2",
          "node_0_2_2 → node_0_2_2_1",
          "node_0_2_2 → node_0_2_2_2",
          "node_0_1_1_1 → node_0_1_1_1_1",
          "node_0_1_1_1 → node_0_1_1_1_2",
          "node_0_1_1_2 → node_0_1_1_2_1",
          "node_0_1_1_2 → node_0_1_1_2_2",
          "node_0_1_2_1 → node_0_1_2_1_1",
          "node_0_1_2_1 → node_0_1_2_1_2",
          "node_0_1_2_2 → node_0_1_2_2_1",
          "node_0_1_2_2 → node_0_1_2_2_2",
          "node_0_2_1_1 → node_0_2_1_1_1",
          "node_0_2_1_1 → node_0_2_1_1_2",
          "node_0_2_1_2 → node_0_2_1_2_1",
          "node_0_2_1_2 → node_0_2_1_2_2",
          "node_0_2_2_1 → node_0_2_2_1_1",
          "node_0_2_2_1 → node_0_2_2_1_2",
          "node_0_2_2_2 → node_0_2_2_2_1",
          "node_0_2_2_2 → node_0_2_2_2_2"
         ],
         "marker": {
          "color": "#FFDAC1",
          "size": 15,
          "symbol": "circle"
         },
         "mode": "markers",
         "name": "Choices",
         "type": "scatter",
         "x": [
          -0.35,
          0.35,
          -1.4,
          -0.7,
          0.7,
          1.4,
          -3.4999999999999996,
          -2.8,
          -1.4,
          -0.7,
          0.7,
          1.4,
          2.8,
          3.4999999999999996,
          -7.699999999999999,
          -7,
          -5.6,
          -4.9,
          -3.4999999999999996,
          -2.8,
          -1.4,
          -0.7,
          0.7,
          1.4,
          2.8,
          3.4999999999999996,
          4.9,
          5.6,
          7,
          7.699999999999999
         ],
         "y": [
          -1,
          -1,
          -3,
          -3,
          -3,
          -3,
          -5,
          -5,
          -5,
          -5,
          -5,
          -5,
          -5,
          -5,
          -7,
          -7,
          -7,
          -7,
          -7,
          -7,
          -7,
          -7,
          -7,
          -7,
          -7,
          -7,
          -7,
          -7,
          -7,
          -7
         ]
        },
        {
         "cliponaxis": false,
         "marker": {
          "color": "#32CD32",
          "size": 18,
          "symbol": "square"
         },
         "mode": "markers",
         "name": "Visited",
         "showlegend": true,
         "type": "scatter",
         "x": [
          null
         ],
         "y": [
          null
         ]
        }
       ],
       "layout": {
        "annotations": [
         {
          "arrowcolor": "black",
          "arrowhead": 2,
          "arrowsize": 1,
          "arrowwidth": 1,
          "ax": 0,
          "axref": "x",
          "ay": 0,
          "ayref": "y",
          "opacity": 0.5,
          "showarrow": true,
          "x": -0.7,
          "xref": "x",
          "y": -2,
          "yref": "y"
         },
         {
          "arrowcolor": "black",
          "arrowhead": 2,
          "arrowsize": 1,
          "arrowwidth": 1,
          "ax": 0,
          "axref": "x",
          "ay": 0,
          "ayref": "y",
          "opacity": 0.5,
          "showarrow": true,
          "x": 0.7,
          "xref": "x",
          "y": -2,
          "yref": "y"
         },
         {
          "arrowcolor": "black",
          "arrowhead": 2,
          "arrowsize": 1,
          "arrowwidth": 1,
          "ax": -0.7,
          "axref": "x",
          "ay": -2,
          "ayref": "y",
          "opacity": 0.5,
          "showarrow": true,
          "x": -2.0999999999999996,
          "xref": "x",
          "y": -4,
          "yref": "y"
         },
         {
          "arrowcolor": "black",
          "arrowhead": 2,
          "arrowsize": 1,
          "arrowwidth": 1,
          "ax": -0.7,
          "axref": "x",
          "ay": -2,
          "ayref": "y",
          "opacity": 0.5,
          "showarrow": true,
          "x": -0.7,
          "xref": "x",
          "y": -4,
          "yref": "y"
         },
         {
          "arrowcolor": "black",
          "arrowhead": 2,
          "arrowsize": 1,
          "arrowwidth": 1,
          "ax": 0.7,
          "axref": "x",
          "ay": -2,
          "ayref": "y",
          "opacity": 0.5,
          "showarrow": true,
          "x": 0.7,
          "xref": "x",
          "y": -4,
          "yref": "y"
         },
         {
          "arrowcolor": "black",
          "arrowhead": 2,
          "arrowsize": 1,
          "arrowwidth": 1,
          "ax": 0.7,
          "axref": "x",
          "ay": -2,
          "ayref": "y",
          "opacity": 0.5,
          "showarrow": true,
          "x": 2.0999999999999996,
          "xref": "x",
          "y": -4,
          "yref": "y"
         },
         {
          "arrowcolor": "black",
          "arrowhead": 2,
          "arrowsize": 1,
          "arrowwidth": 1,
          "ax": -2.0999999999999996,
          "axref": "x",
          "ay": -4,
          "ayref": "y",
          "opacity": 0.5,
          "showarrow": true,
          "x": -4.8999999999999995,
          "xref": "x",
          "y": -6,
          "yref": "y"
         },
         {
          "arrowcolor": "black",
          "arrowhead": 2,
          "arrowsize": 1,
          "arrowwidth": 1,
          "ax": -2.0999999999999996,
          "axref": "x",
          "ay": -4,
          "ayref": "y",
          "opacity": 0.5,
          "showarrow": true,
          "x": -3.5,
          "xref": "x",
          "y": -6,
          "yref": "y"
         },
         {
          "arrowcolor": "black",
          "arrowhead": 2,
          "arrowsize": 1,
          "arrowwidth": 1,
          "ax": -0.7,
          "axref": "x",
          "ay": -4,
          "ayref": "y",
          "opacity": 0.5,
          "showarrow": true,
          "x": -2.0999999999999996,
          "xref": "x",
          "y": -6,
          "yref": "y"
         },
         {
          "arrowcolor": "black",
          "arrowhead": 2,
          "arrowsize": 1,
          "arrowwidth": 1,
          "ax": -0.7,
          "axref": "x",
          "ay": -4,
          "ayref": "y",
          "opacity": 0.5,
          "showarrow": true,
          "x": -0.7,
          "xref": "x",
          "y": -6,
          "yref": "y"
         },
         {
          "arrowcolor": "black",
          "arrowhead": 2,
          "arrowsize": 1,
          "arrowwidth": 1,
          "ax": 0.7,
          "axref": "x",
          "ay": -4,
          "ayref": "y",
          "opacity": 0.5,
          "showarrow": true,
          "x": 0.7,
          "xref": "x",
          "y": -6,
          "yref": "y"
         },
         {
          "arrowcolor": "black",
          "arrowhead": 2,
          "arrowsize": 1,
          "arrowwidth": 1,
          "ax": 0.7,
          "axref": "x",
          "ay": -4,
          "ayref": "y",
          "opacity": 0.5,
          "showarrow": true,
          "x": 2.0999999999999996,
          "xref": "x",
          "y": -6,
          "yref": "y"
         },
         {
          "arrowcolor": "black",
          "arrowhead": 2,
          "arrowsize": 1,
          "arrowwidth": 1,
          "ax": 2.0999999999999996,
          "axref": "x",
          "ay": -4,
          "ayref": "y",
          "opacity": 0.5,
          "showarrow": true,
          "x": 3.5,
          "xref": "x",
          "y": -6,
          "yref": "y"
         },
         {
          "arrowcolor": "black",
          "arrowhead": 2,
          "arrowsize": 1,
          "arrowwidth": 1,
          "ax": 2.0999999999999996,
          "axref": "x",
          "ay": -4,
          "ayref": "y",
          "opacity": 0.5,
          "showarrow": true,
          "x": 4.8999999999999995,
          "xref": "x",
          "y": -6,
          "yref": "y"
         },
         {
          "arrowcolor": "black",
          "arrowhead": 2,
          "arrowsize": 1,
          "arrowwidth": 1,
          "ax": -4.8999999999999995,
          "axref": "x",
          "ay": -6,
          "ayref": "y",
          "opacity": 0.5,
          "showarrow": true,
          "x": -10.5,
          "xref": "x",
          "y": -8,
          "yref": "y"
         },
         {
          "arrowcolor": "black",
          "arrowhead": 2,
          "arrowsize": 1,
          "arrowwidth": 1,
          "ax": -4.8999999999999995,
          "axref": "x",
          "ay": -6,
          "ayref": "y",
          "opacity": 0.5,
          "showarrow": true,
          "x": -9.1,
          "xref": "x",
          "y": -8,
          "yref": "y"
         },
         {
          "arrowcolor": "black",
          "arrowhead": 2,
          "arrowsize": 1,
          "arrowwidth": 1,
          "ax": -3.5,
          "axref": "x",
          "ay": -6,
          "ayref": "y",
          "opacity": 0.5,
          "showarrow": true,
          "x": -7.699999999999999,
          "xref": "x",
          "y": -8,
          "yref": "y"
         },
         {
          "arrowcolor": "black",
          "arrowhead": 2,
          "arrowsize": 1,
          "arrowwidth": 1,
          "ax": -3.5,
          "axref": "x",
          "ay": -6,
          "ayref": "y",
          "opacity": 0.5,
          "showarrow": true,
          "x": -6.3,
          "xref": "x",
          "y": -8,
          "yref": "y"
         },
         {
          "arrowcolor": "black",
          "arrowhead": 2,
          "arrowsize": 1,
          "arrowwidth": 1,
          "ax": -2.0999999999999996,
          "axref": "x",
          "ay": -6,
          "ayref": "y",
          "opacity": 0.5,
          "showarrow": true,
          "x": -4.8999999999999995,
          "xref": "x",
          "y": -8,
          "yref": "y"
         },
         {
          "arrowcolor": "black",
          "arrowhead": 2,
          "arrowsize": 1,
          "arrowwidth": 1,
          "ax": -2.0999999999999996,
          "axref": "x",
          "ay": -6,
          "ayref": "y",
          "opacity": 0.5,
          "showarrow": true,
          "x": -3.5,
          "xref": "x",
          "y": -8,
          "yref": "y"
         },
         {
          "arrowcolor": "black",
          "arrowhead": 2,
          "arrowsize": 1,
          "arrowwidth": 1,
          "ax": -0.7,
          "axref": "x",
          "ay": -6,
          "ayref": "y",
          "opacity": 0.5,
          "showarrow": true,
          "x": -2.0999999999999996,
          "xref": "x",
          "y": -8,
          "yref": "y"
         },
         {
          "arrowcolor": "black",
          "arrowhead": 2,
          "arrowsize": 1,
          "arrowwidth": 1,
          "ax": -0.7,
          "axref": "x",
          "ay": -6,
          "ayref": "y",
          "opacity": 0.5,
          "showarrow": true,
          "x": -0.7,
          "xref": "x",
          "y": -8,
          "yref": "y"
         },
         {
          "arrowcolor": "black",
          "arrowhead": 2,
          "arrowsize": 1,
          "arrowwidth": 1,
          "ax": 0.7,
          "axref": "x",
          "ay": -6,
          "ayref": "y",
          "opacity": 0.5,
          "showarrow": true,
          "x": 0.7,
          "xref": "x",
          "y": -8,
          "yref": "y"
         },
         {
          "arrowcolor": "black",
          "arrowhead": 2,
          "arrowsize": 1,
          "arrowwidth": 1,
          "ax": 0.7,
          "axref": "x",
          "ay": -6,
          "ayref": "y",
          "opacity": 0.5,
          "showarrow": true,
          "x": 2.0999999999999996,
          "xref": "x",
          "y": -8,
          "yref": "y"
         },
         {
          "arrowcolor": "black",
          "arrowhead": 2,
          "arrowsize": 1,
          "arrowwidth": 1,
          "ax": 2.0999999999999996,
          "axref": "x",
          "ay": -6,
          "ayref": "y",
          "opacity": 0.5,
          "showarrow": true,
          "x": 3.5,
          "xref": "x",
          "y": -8,
          "yref": "y"
         },
         {
          "arrowcolor": "black",
          "arrowhead": 2,
          "arrowsize": 1,
          "arrowwidth": 1,
          "ax": 2.0999999999999996,
          "axref": "x",
          "ay": -6,
          "ayref": "y",
          "opacity": 0.5,
          "showarrow": true,
          "x": 4.8999999999999995,
          "xref": "x",
          "y": -8,
          "yref": "y"
         },
         {
          "arrowcolor": "black",
          "arrowhead": 2,
          "arrowsize": 1,
          "arrowwidth": 1,
          "ax": 3.5,
          "axref": "x",
          "ay": -6,
          "ayref": "y",
          "opacity": 0.5,
          "showarrow": true,
          "x": 6.3,
          "xref": "x",
          "y": -8,
          "yref": "y"
         },
         {
          "arrowcolor": "black",
          "arrowhead": 2,
          "arrowsize": 1,
          "arrowwidth": 1,
          "ax": 3.5,
          "axref": "x",
          "ay": -6,
          "ayref": "y",
          "opacity": 0.5,
          "showarrow": true,
          "x": 7.699999999999999,
          "xref": "x",
          "y": -8,
          "yref": "y"
         },
         {
          "arrowcolor": "black",
          "arrowhead": 2,
          "arrowsize": 1,
          "arrowwidth": 1,
          "ax": 4.8999999999999995,
          "axref": "x",
          "ay": -6,
          "ayref": "y",
          "opacity": 0.5,
          "showarrow": true,
          "x": 9.1,
          "xref": "x",
          "y": -8,
          "yref": "y"
         },
         {
          "arrowcolor": "black",
          "arrowhead": 2,
          "arrowsize": 1,
          "arrowwidth": 1,
          "ax": 4.8999999999999995,
          "axref": "x",
          "ay": -6,
          "ayref": "y",
          "opacity": 0.5,
          "showarrow": true,
          "x": 10.5,
          "xref": "x",
          "y": -8,
          "yref": "y"
         }
        ],
        "height": 1000,
        "hovermode": "closest",
        "margin": {
         "b": 50,
         "l": 50,
         "r": 50,
         "t": 50
        },
        "paper_bgcolor": "white",
        "plot_bgcolor": "white",
        "template": {
         "data": {
          "bar": [
           {
            "error_x": {
             "color": "#2a3f5f"
            },
            "error_y": {
             "color": "#2a3f5f"
            },
            "marker": {
             "line": {
              "color": "#E5ECF6",
              "width": 0.5
             },
             "pattern": {
              "fillmode": "overlay",
              "size": 10,
              "solidity": 0.2
             }
            },
            "type": "bar"
           }
          ],
          "barpolar": [
           {
            "marker": {
             "line": {
              "color": "#E5ECF6",
              "width": 0.5
             },
             "pattern": {
              "fillmode": "overlay",
              "size": 10,
              "solidity": 0.2
             }
            },
            "type": "barpolar"
           }
          ],
          "carpet": [
           {
            "aaxis": {
             "endlinecolor": "#2a3f5f",
             "gridcolor": "white",
             "linecolor": "white",
             "minorgridcolor": "white",
             "startlinecolor": "#2a3f5f"
            },
            "baxis": {
             "endlinecolor": "#2a3f5f",
             "gridcolor": "white",
             "linecolor": "white",
             "minorgridcolor": "white",
             "startlinecolor": "#2a3f5f"
            },
            "type": "carpet"
           }
          ],
          "choropleth": [
           {
            "colorbar": {
             "outlinewidth": 0,
             "ticks": ""
            },
            "type": "choropleth"
           }
          ],
          "contour": [
           {
            "colorbar": {
             "outlinewidth": 0,
             "ticks": ""
            },
            "colorscale": [
             [
              0,
              "#0d0887"
             ],
             [
              0.1111111111111111,
              "#46039f"
             ],
             [
              0.2222222222222222,
              "#7201a8"
             ],
             [
              0.3333333333333333,
              "#9c179e"
             ],
             [
              0.4444444444444444,
              "#bd3786"
             ],
             [
              0.5555555555555556,
              "#d8576b"
             ],
             [
              0.6666666666666666,
              "#ed7953"
             ],
             [
              0.7777777777777778,
              "#fb9f3a"
             ],
             [
              0.8888888888888888,
              "#fdca26"
             ],
             [
              1,
              "#f0f921"
             ]
            ],
            "type": "contour"
           }
          ],
          "contourcarpet": [
           {
            "colorbar": {
             "outlinewidth": 0,
             "ticks": ""
            },
            "type": "contourcarpet"
           }
          ],
          "heatmap": [
           {
            "colorbar": {
             "outlinewidth": 0,
             "ticks": ""
            },
            "colorscale": [
             [
              0,
              "#0d0887"
             ],
             [
              0.1111111111111111,
              "#46039f"
             ],
             [
              0.2222222222222222,
              "#7201a8"
             ],
             [
              0.3333333333333333,
              "#9c179e"
             ],
             [
              0.4444444444444444,
              "#bd3786"
             ],
             [
              0.5555555555555556,
              "#d8576b"
             ],
             [
              0.6666666666666666,
              "#ed7953"
             ],
             [
              0.7777777777777778,
              "#fb9f3a"
             ],
             [
              0.8888888888888888,
              "#fdca26"
             ],
             [
              1,
              "#f0f921"
             ]
            ],
            "type": "heatmap"
           }
          ],
          "histogram": [
           {
            "marker": {
             "pattern": {
              "fillmode": "overlay",
              "size": 10,
              "solidity": 0.2
             }
            },
            "type": "histogram"
           }
          ],
          "histogram2d": [
           {
            "colorbar": {
             "outlinewidth": 0,
             "ticks": ""
            },
            "colorscale": [
             [
              0,
              "#0d0887"
             ],
             [
              0.1111111111111111,
              "#46039f"
             ],
             [
              0.2222222222222222,
              "#7201a8"
             ],
             [
              0.3333333333333333,
              "#9c179e"
             ],
             [
              0.4444444444444444,
              "#bd3786"
             ],
             [
              0.5555555555555556,
              "#d8576b"
             ],
             [
              0.6666666666666666,
              "#ed7953"
             ],
             [
              0.7777777777777778,
              "#fb9f3a"
             ],
             [
              0.8888888888888888,
              "#fdca26"
             ],
             [
              1,
              "#f0f921"
             ]
            ],
            "type": "histogram2d"
           }
          ],
          "histogram2dcontour": [
           {
            "colorbar": {
             "outlinewidth": 0,
             "ticks": ""
            },
            "colorscale": [
             [
              0,
              "#0d0887"
             ],
             [
              0.1111111111111111,
              "#46039f"
             ],
             [
              0.2222222222222222,
              "#7201a8"
             ],
             [
              0.3333333333333333,
              "#9c179e"
             ],
             [
              0.4444444444444444,
              "#bd3786"
             ],
             [
              0.5555555555555556,
              "#d8576b"
             ],
             [
              0.6666666666666666,
              "#ed7953"
             ],
             [
              0.7777777777777778,
              "#fb9f3a"
             ],
             [
              0.8888888888888888,
              "#fdca26"
             ],
             [
              1,
              "#f0f921"
             ]
            ],
            "type": "histogram2dcontour"
           }
          ],
          "mesh3d": [
           {
            "colorbar": {
             "outlinewidth": 0,
             "ticks": ""
            },
            "type": "mesh3d"
           }
          ],
          "parcoords": [
           {
            "line": {
             "colorbar": {
              "outlinewidth": 0,
              "ticks": ""
             }
            },
            "type": "parcoords"
           }
          ],
          "pie": [
           {
            "automargin": true,
            "type": "pie"
           }
          ],
          "scatter": [
           {
            "fillpattern": {
             "fillmode": "overlay",
             "size": 10,
             "solidity": 0.2
            },
            "type": "scatter"
           }
          ],
          "scatter3d": [
           {
            "line": {
             "colorbar": {
              "outlinewidth": 0,
              "ticks": ""
             }
            },
            "marker": {
             "colorbar": {
              "outlinewidth": 0,
              "ticks": ""
             }
            },
            "type": "scatter3d"
           }
          ],
          "scattercarpet": [
           {
            "marker": {
             "colorbar": {
              "outlinewidth": 0,
              "ticks": ""
             }
            },
            "type": "scattercarpet"
           }
          ],
          "scattergeo": [
           {
            "marker": {
             "colorbar": {
              "outlinewidth": 0,
              "ticks": ""
             }
            },
            "type": "scattergeo"
           }
          ],
          "scattergl": [
           {
            "marker": {
             "colorbar": {
              "outlinewidth": 0,
              "ticks": ""
             }
            },
            "type": "scattergl"
           }
          ],
          "scattermap": [
           {
            "marker": {
             "colorbar": {
              "outlinewidth": 0,
              "ticks": ""
             }
            },
            "type": "scattermap"
           }
          ],
          "scattermapbox": [
           {
            "marker": {
             "colorbar": {
              "outlinewidth": 0,
              "ticks": ""
             }
            },
            "type": "scattermapbox"
           }
          ],
          "scatterpolar": [
           {
            "marker": {
             "colorbar": {
              "outlinewidth": 0,
              "ticks": ""
             }
            },
            "type": "scatterpolar"
           }
          ],
          "scatterpolargl": [
           {
            "marker": {
             "colorbar": {
              "outlinewidth": 0,
              "ticks": ""
             }
            },
            "type": "scatterpolargl"
           }
          ],
          "scatterternary": [
           {
            "marker": {
             "colorbar": {
              "outlinewidth": 0,
              "ticks": ""
             }
            },
            "type": "scatterternary"
           }
          ],
          "surface": [
           {
            "colorbar": {
             "outlinewidth": 0,
             "ticks": ""
            },
            "colorscale": [
             [
              0,
              "#0d0887"
             ],
             [
              0.1111111111111111,
              "#46039f"
             ],
             [
              0.2222222222222222,
              "#7201a8"
             ],
             [
              0.3333333333333333,
              "#9c179e"
             ],
             [
              0.4444444444444444,
              "#bd3786"
             ],
             [
              0.5555555555555556,
              "#d8576b"
             ],
             [
              0.6666666666666666,
              "#ed7953"
             ],
             [
              0.7777777777777778,
              "#fb9f3a"
             ],
             [
              0.8888888888888888,
              "#fdca26"
             ],
             [
              1,
              "#f0f921"
             ]
            ],
            "type": "surface"
           }
          ],
          "table": [
           {
            "cells": {
             "fill": {
              "color": "#EBF0F8"
             },
             "line": {
              "color": "white"
             }
            },
            "header": {
             "fill": {
              "color": "#C8D4E3"
             },
             "line": {
              "color": "white"
             }
            },
            "type": "table"
           }
          ]
         },
         "layout": {
          "annotationdefaults": {
           "arrowcolor": "#2a3f5f",
           "arrowhead": 0,
           "arrowwidth": 1
          },
          "autotypenumbers": "strict",
          "coloraxis": {
           "colorbar": {
            "outlinewidth": 0,
            "ticks": ""
           }
          },
          "colorscale": {
           "diverging": [
            [
             0,
             "#8e0152"
            ],
            [
             0.1,
             "#c51b7d"
            ],
            [
             0.2,
             "#de77ae"
            ],
            [
             0.3,
             "#f1b6da"
            ],
            [
             0.4,
             "#fde0ef"
            ],
            [
             0.5,
             "#f7f7f7"
            ],
            [
             0.6,
             "#e6f5d0"
            ],
            [
             0.7,
             "#b8e186"
            ],
            [
             0.8,
             "#7fbc41"
            ],
            [
             0.9,
             "#4d9221"
            ],
            [
             1,
             "#276419"
            ]
           ],
           "sequential": [
            [
             0,
             "#0d0887"
            ],
            [
             0.1111111111111111,
             "#46039f"
            ],
            [
             0.2222222222222222,
             "#7201a8"
            ],
            [
             0.3333333333333333,
             "#9c179e"
            ],
            [
             0.4444444444444444,
             "#bd3786"
            ],
            [
             0.5555555555555556,
             "#d8576b"
            ],
            [
             0.6666666666666666,
             "#ed7953"
            ],
            [
             0.7777777777777778,
             "#fb9f3a"
            ],
            [
             0.8888888888888888,
             "#fdca26"
            ],
            [
             1,
             "#f0f921"
            ]
           ],
           "sequentialminus": [
            [
             0,
             "#0d0887"
            ],
            [
             0.1111111111111111,
             "#46039f"
            ],
            [
             0.2222222222222222,
             "#7201a8"
            ],
            [
             0.3333333333333333,
             "#9c179e"
            ],
            [
             0.4444444444444444,
             "#bd3786"
            ],
            [
             0.5555555555555556,
             "#d8576b"
            ],
            [
             0.6666666666666666,
             "#ed7953"
            ],
            [
             0.7777777777777778,
             "#fb9f3a"
            ],
            [
             0.8888888888888888,
             "#fdca26"
            ],
            [
             1,
             "#f0f921"
            ]
           ]
          },
          "colorway": [
           "#636efa",
           "#EF553B",
           "#00cc96",
           "#ab63fa",
           "#FFA15A",
           "#19d3f3",
           "#FF6692",
           "#B6E880",
           "#FF97FF",
           "#FECB52"
          ],
          "font": {
           "color": "#2a3f5f"
          },
          "geo": {
           "bgcolor": "white",
           "lakecolor": "white",
           "landcolor": "#E5ECF6",
           "showlakes": true,
           "showland": true,
           "subunitcolor": "white"
          },
          "hoverlabel": {
           "align": "left"
          },
          "hovermode": "closest",
          "mapbox": {
           "style": "light"
          },
          "paper_bgcolor": "white",
          "plot_bgcolor": "#E5ECF6",
          "polar": {
           "angularaxis": {
            "gridcolor": "white",
            "linecolor": "white",
            "ticks": ""
           },
           "bgcolor": "#E5ECF6",
           "radialaxis": {
            "gridcolor": "white",
            "linecolor": "white",
            "ticks": ""
           }
          },
          "scene": {
           "xaxis": {
            "backgroundcolor": "#E5ECF6",
            "gridcolor": "white",
            "gridwidth": 2,
            "linecolor": "white",
            "showbackground": true,
            "ticks": "",
            "zerolinecolor": "white"
           },
           "yaxis": {
            "backgroundcolor": "#E5ECF6",
            "gridcolor": "white",
            "gridwidth": 2,
            "linecolor": "white",
            "showbackground": true,
            "ticks": "",
            "zerolinecolor": "white"
           },
           "zaxis": {
            "backgroundcolor": "#E5ECF6",
            "gridcolor": "white",
            "gridwidth": 2,
            "linecolor": "white",
            "showbackground": true,
            "ticks": "",
            "zerolinecolor": "white"
           }
          },
          "shapedefaults": {
           "line": {
            "color": "#2a3f5f"
           }
          },
          "ternary": {
           "aaxis": {
            "gridcolor": "white",
            "linecolor": "white",
            "ticks": ""
           },
           "baxis": {
            "gridcolor": "white",
            "linecolor": "white",
            "ticks": ""
           },
           "bgcolor": "#E5ECF6",
           "caxis": {
            "gridcolor": "white",
            "linecolor": "white",
            "ticks": ""
           }
          },
          "title": {
           "x": 0.05
          },
          "xaxis": {
           "automargin": true,
           "gridcolor": "white",
           "linecolor": "white",
           "ticks": "",
           "title": {
            "standoff": 15
           },
           "zerolinecolor": "white",
           "zerolinewidth": 2
          },
          "yaxis": {
           "automargin": true,
           "gridcolor": "white",
           "linecolor": "white",
           "ticks": "",
           "title": {
            "standoff": 15
           },
           "zerolinecolor": "white",
           "zerolinewidth": 2
          }
         }
        },
        "title": {
         "text": "Star Wars Interactive Story"
        },
        "width": 800,
        "xaxis": {
         "showgrid": false,
         "visible": false,
         "zeroline": false
        },
        "yaxis": {
         "showgrid": false,
         "visible": false,
         "zeroline": false
        }
       }
      }
     },
     "metadata": {},
     "output_type": "display_data"
    }
   ],
   "source": [
    "story_data = load_story_json(\"ninjago_story.json\")\n",
    "G, attrs, root = build_story_graph(story_data)\n",
    "\n",
    "# 1) Force the root to be “visited”\n",
    "attrs[root]['__visited'] = True\n",
    "highlight = [root]\n",
    "\n",
    "# 2) Compute your usual LR layout, then swap to TB\n",
    "pos_lr = flat_tree_layout(G, root)\n",
    "pos = {node: (y, -x) for node, (x, y) in pos_lr.items()}\n",
    "\n",
    "# 3) Draw, passing in highlight, and tidy up the canvas\n",
    "fig = story_fig(\n",
    "    G,\n",
    "    attrs,\n",
    "    pos,\n",
    "    highlight=highlight,\n",
    "    title=\"Star Wars Interactive Story\"\n",
    ")\n",
    "fig.update_layout(\n",
    "    width=800,\n",
    "    height=1000,\n",
    "    margin=dict(l=50, r=50, t=50, b=50),\n",
    "    xaxis=dict(showgrid=False, zeroline=False, visible=False),\n",
    "    yaxis=dict(showgrid=False, zeroline=False, visible=False),\n",
    ")\n",
    "fig.show()\n"
   ]
  }
 ],
 "metadata": {
  "kernelspec": {
   "display_name": ".venv",
   "language": "python",
   "name": "python3"
  },
  "language_info": {
   "codemirror_mode": {
    "name": "ipython",
    "version": 3
   },
   "file_extension": ".py",
   "mimetype": "text/x-python",
   "name": "python",
   "nbconvert_exporter": "python",
   "pygments_lexer": "ipython3",
   "version": "3.13.2"
  }
 },
 "nbformat": 4,
 "nbformat_minor": 4
}
