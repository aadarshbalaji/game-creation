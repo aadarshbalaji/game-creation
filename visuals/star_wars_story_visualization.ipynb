{
 "cells": [
  {
   "cell_type": "code",
   "execution_count": 10,
   "metadata": {},
   "outputs": [],
   "source": [
    "# !pip install plotly networkx ipywidgets --quiet   # run once\n",
    "import json, textwrap, networkx as nx, plotly.graph_objects as go\n",
    "from collections import defaultdict\n",
    "from IPython.display import display\n"
   ]
  },
  {
   "cell_type": "markdown",
   "metadata": {},
   "source": [
    "## Load the Star Wars Story Data\n",
    "\n",
    "Let's load the story data from the JSON file."
   ]
  },
  {
   "cell_type": "code",
   "execution_count": 11,
   "metadata": {},
   "outputs": [],
   "source": [
    "def wrap_text(txt, width=40):\n",
    "    return \"<br>\".join(textwrap.wrap(txt, width))\n",
    "\n",
    "def load_story_json(path):\n",
    "    with open(path, 'r') as f:\n",
    "        return json.load(f)\n",
    "\n",
    "def build_story_graph(story_dict):\n",
    "    \"\"\"\n",
    "    Returns:  G (DiGraph), node_attrs {id: {...}}, root\n",
    "    Edge rule: a node is parent of any node whose ID starts with its ID + '_' .\n",
    "    \"\"\"\n",
    "    nodes = story_dict[\"graph\"][\"nodes\"]\n",
    "    G          = nx.DiGraph()\n",
    "    node_attrs = {}\n",
    "    \n",
    "    # add nodes with rich attrs\n",
    "    for node_id, data in nodes.items():\n",
    "        G.add_node(node_id)\n",
    "        node_attrs[node_id] = data\n",
    "    \n",
    "    # infer edges via ID-prefix convention\n",
    "    for child in G.nodes:\n",
    "        if '_' in child:\n",
    "            parent = child.rsplit('_', 1)[0]\n",
    "            if parent in G:\n",
    "                G.add_edge(parent, child)\n",
    "    root = \"node_0\"\n",
    "    return G, node_attrs, root\n"
   ]
  },
  {
   "cell_type": "code",
   "execution_count": 12,
   "metadata": {},
   "outputs": [],
   "source": [
    "def bfs_layout(G, root=\"node_0\"):\n",
    "    levels = defaultdict(list)\n",
    "    for node in nx.bfs_tree(G, root):\n",
    "        lvl = nx.shortest_path_length(G, root, node)\n",
    "        levels[lvl].append(node)\n",
    "\n",
    "    pos = {}\n",
    "    for lvl, nodes in levels.items():\n",
    "        for i, n in enumerate(sorted(nodes)):\n",
    "            y = i - (len(nodes)-1)/2        # center each level on y=0\n",
    "            pos[n] = (lvl, y)\n",
    "    return pos\n"
   ]
  },
  {
   "cell_type": "code",
   "execution_count": 13,
   "metadata": {},
   "outputs": [],
   "source": [
    "import re, networkx as nx\n",
    "from collections import defaultdict\n",
    "\n",
    "def natural_key(s):\n",
    "    # 'node_0_12_3' → ['node_',0,'_',12,'_',3] so numeric parts sort correctly\n",
    "    return [int(t) if t.isdigit() else t for t in re.split(r'(\\d+)', s)]\n",
    "\n",
    "def flat_tree_layout(G, root=\"node_0\", x_gap=2.0, y_gap=1.4):\n",
    "    \"\"\"Return {node: (x,y)} with:\n",
    "       • x = depth * x_gap\n",
    "       • y = centred siblings; if a node has one child, child keeps same y\n",
    "    \"\"\"\n",
    "    # group by depth\n",
    "    levels = defaultdict(list)\n",
    "    for n in nx.bfs_tree(G, root):\n",
    "        levels[nx.shortest_path_length(G, root, n)].append(n)\n",
    "\n",
    "    pos = {}\n",
    "    for depth in sorted(levels):\n",
    "        level_nodes = sorted(levels[depth], key=natural_key)\n",
    "        mid = (len(level_nodes) - 1) / 2\n",
    "        for idx, n in enumerate(level_nodes):\n",
    "            # inherit y if this edge is part of a chain\n",
    "            parent = next(iter(G.predecessors(n)), None)\n",
    "            if parent and len(list(G.successors(parent))) == 1:\n",
    "                y = pos[parent][1]\n",
    "            else:\n",
    "                y = (idx - mid) * y_gap\n",
    "            pos[n] = (depth * x_gap, y)\n",
    "    return pos\n"
   ]
  },
  {
   "cell_type": "code",
   "execution_count": 14,
   "metadata": {},
   "outputs": [],
   "source": [
    "def story_fig(G, node_data, pos, highlight=None, title=\"Star-Wars Story\"):\n",
    "    highlight = set(highlight or [])\n",
    "    \n",
    "    # === A. squares (story nodes) ===\n",
    "    sx, sy, stxt, shover, scol = [], [], [], [], []\n",
    "    for nid, (x,y) in pos.items():\n",
    "        sx.append(x); sy.append(y)\n",
    "        stxt.append(f\"ID: {nid.split('_')[-1]}\")  # short label\n",
    "        hover = f\"<b>{nid}</b><br>{wrap_text(node_data[nid]['story'],30)}\"\n",
    "        shover.append(hover)\n",
    "        scol.append(\"#FF9966\" if nid in highlight else \"#A0CBE8\")\n",
    "    \n",
    "    # === B. circles (choice points, mid-edge) ===\n",
    "    cx, cy, cidx, chover, ccol = [], [], [], [], []\n",
    "    for u,v in G.edges:\n",
    "        (x0,y0), (x1,y1) = pos[u], pos[v]\n",
    "        mx, my = (x0+x1)/2, (y0+y1)/2\n",
    "        eid = f\"{u}->{v}\"\n",
    "        cx.append(mx); cy.append(my); cidx.append(eid)\n",
    "        chover.append(f\"{u} → {v}\")\n",
    "        ccol.append(\"#66FF99\" if eid in highlight else \"#FFDAC1\")\n",
    "    \n",
    "    fig = go.Figure()\n",
    "    fig.add_trace(go.Scatter(\n",
    "        x=sx, y=sy, mode=\"markers+text\",\n",
    "        marker=dict(symbol=\"square\", size=22, color=scol),\n",
    "        text=stxt, textposition=\"top center\",\n",
    "        hovertext=shover, hoverinfo=\"text\",\n",
    "        name=\"Scenes\"\n",
    "    ))\n",
    "    fig.add_trace(go.Scatter(\n",
    "        x=cx, y=cy, mode=\"markers\",\n",
    "        marker=dict(symbol=\"circle\", size=15, color=ccol),\n",
    "        hovertext=chover, hoverinfo=\"text\",\n",
    "        name=\"Choices\"\n",
    "    ))\n",
    "    \n",
    "    # === C. arrows ===\n",
    "    arrows=[]\n",
    "    for u,v in G.edges:\n",
    "        x0,y0 = pos[u]; x1,y1 = pos[v]\n",
    "        arrows.append(dict(\n",
    "            x=x1, y=y1, ax=x0, ay=y0,\n",
    "            xref='x', yref='y', axref='x', ayref='y',\n",
    "            showarrow=True, arrowhead=2, arrowwidth=1, opacity=.5\n",
    "        ))\n",
    "    fig.update_layout(\n",
    "        title=title, annotations=arrows,\n",
    "        xaxis=dict(visible=False), yaxis=dict(visible=False),\n",
    "        hovermode=\"closest\", plot_bgcolor=\"white\", paper_bgcolor=\"white\",\n",
    "        margin=dict(l=40,r=40,t=60,b=40)\n",
    "    )\n",
    "    fig.update_traces(cliponaxis=False)\n",
    "    return fig\n"
   ]
  },
  {
   "cell_type": "code",
   "execution_count": 15,
   "metadata": {},
   "outputs": [
    {
     "data": {
      "application/vnd.plotly.v1+json": {
       "config": {
        "plotlyServerURL": "https://plot.ly"
       },
       "data": [
        {
         "cliponaxis": false,
         "hoverinfo": "text",
         "hovertext": [
          "<b>node_0</b><br>The deafening whine of your<br>TIE fighter’s ion engines<br>fills the cockpit as you<br>streak through the inky<br>blackness. Stars, like<br>scattered diamonds, glitter<br>against the void, a stark<br>contrast to the sterile grey<br>of your Imperial flight suit.<br>You're fresh out of the<br>Academy on Carida, barely a<br>cadet anymore, and this is it:<br>your first real patrol.<br>Assigned to the Ryloth sector<br>– a dusty, backwater world<br>teeming with smugglers and<br>Separatist holdouts – you're<br>tasked with maintaining order,<br>a noble goal in the eyes of<br>the Empire.  Suddenly, a<br>jarring jolt throws you<br>against your harness. Alarms<br>blare, bathing the cockpit in<br>a harsh red light. On your<br>scanner, a swarm of contacts<br>erupts – too many to count,<br>and definitely not Imperial.<br>They're fast, heavily armed,<br>and bearing down on you and<br>your wingmates like hungry<br>predators. A desperate comm<br>crackle from Gamma Squadron<br>confirms your worst fears:<br>Crimson Dawn. The notorious<br>crime syndicate, emboldened by<br>chaos and armed with scavenged<br>tech, has set a trap. Green<br>laser fire streaks past your<br>viewport, followed by the<br>sickening explosion of your<br>wingmate's TIE. You're alone<br>now, caught in the crosshairs<br>of a ruthless ambush. Survival<br>is no longer a certainty. It<br>is a choice.",
          "<b>node_0_1</b><br>Fight valiantly and attempt to<br>retreat to the nearby Imperial<br>outpost.",
          "<b>node_0_2</b><br>Eject and attempt to evade<br>capture in the Ryloth<br>wilderness.",
          "<b>node_0_1_1</b><br>Execute a barrel roll and<br>break formation, attempting to<br>draw Crimson Dawn fighters<br>away from the damaged wing.",
          "<b>node_0_1_2</b><br>Initiate emergency power<br>reroute to shields and target<br>the lead fighter, hoping to<br>cripple their attack and buy<br>time to escape.",
          "<b>node_0_2_1</b><br>Follow the smoke: Head towards<br>a plume of smoke rising in the<br>distance, hoping it indicates<br>a settlement or source of<br>help, despite the risk of<br>encountering Imperials or<br>Crimson Dawn.",
          "<b>node_0_2_2</b><br>Seek cover: Immediately find<br>the nearest defensible<br>position among the large rock<br>formations and establish a<br>hidden observation post to<br>assess the immediate danger<br>and plan your next move.",
          "<b>node_0_1_1_1</b><br>Divert power to engines and<br>attempt a daring escape<br>through a narrow asteroid<br>field, using its chaotic<br>gravity to shake off pursuers.",
          "<b>node_0_1_1_2</b><br>Activate the TIE fighter's<br>emergency distress beacon<br>while simultaneously engaging<br>in a hit-and-run attack<br>against the Crimson Dawn<br>fighters, hoping to buy enough<br>time for Imperial<br>reinforcements to arrive.",
          "<b>node_0_1_2_1</b><br>Divert all remaining power to<br>the TIE's forward cannons and<br>attempt a desperate, high-risk<br>head-on attack against the<br>lead fighter, hoping to score<br>a critical hit and scatter the<br>formation.",
          "<b>node_0_1_2_2</b><br>Execute a series of daring<br>evasive maneuvers, weaving<br>through the asteroid field<br>while broadcasting a distress<br>signal to the nearest Imperial<br>outpost, gambling that you can<br>survive long enough for<br>reinforcements to arrive.",
          "<b>node_0_2_1_1</b><br>Approach Cautiously: Use the<br>terrain to conceal your<br>movements, scouting ahead with<br>your meager Imperial-issue<br>survival kit's macrobinoculars<br>to identify any hostiles<br>before committing to the<br>location. Prioritize stealth<br>and evasion over direct<br>engagement.",
          "<b>node_0_2_1_2</b><br>Rush Forward: Ignore the risks<br>and move directly towards the<br>smoke, prioritizing speed to<br>reach the potential settlement<br>quickly. Trust in the element<br>of surprise or the possibility<br>of finding allies to defend<br>yourself.",
          "<b>node_0_2_2_1</b><br>Activate the TIE fighter's<br>emergency beacon and transmit<br>a distress call to the nearest<br>Imperial listening post,<br>hoping for a swift rescue<br>despite the risk of Crimson<br>Dawn intercepting the signal.",
          "<b>node_0_2_2_2</b><br>Scavenge what you can from the<br>wreckage of your downed TIE<br>fighter and your fallen<br>comrades, including weapons,<br>rations, and communication<br>devices, to prepare for a long<br>trek through the harsh<br>terrain.",
          "<b>node_0_1_1_1_1</b><br>The TIE fighter, pushed to its<br>limits, bucked and weaved<br>through the asteroid field.<br>Miraculously, the maneuver<br>worked; the pursuers, caught<br>in the gravitational<br>crosscurrents, slammed into<br>asteroids or lost control,<br>spinning into the void.<br>Exhausted but alive, the pilot<br>emerged on the other side, a<br>ghost ship slipping away to<br>join the Rebellion, carrying<br>crucial intelligence on<br>Crimson Dawn's movements and a<br>newfound resolve to fight for<br>freedom.",
          "<b>node_0_1_1_1_2</b><br>Despite the pilot's skill, the<br>damaged TIE fighter couldn't<br>withstand the asteroid field's<br>brutal gauntlet. A glancing<br>blow crippled the engines,<br>sending the craft spiraling<br>towards a large asteroid. With<br>a final, desperate<br>transmission sent to the Rebel<br>Alliance – detailing Crimson<br>Dawn's plans and the location<br>of the artifact – the pilot<br>braced for impact, their<br>sacrifice buying the Rebellion<br>valuable time in the fight<br>against the encroaching<br>darkness.",
          "<b>node_0_1_1_2_1</b><br>The gamble paid off. Imperial<br>reinforcements arrived just as<br>your TIE sputtered its last,<br>crimson fighters scattering<br>before the might of Star<br>Destroyers. Though branded a<br>maverick for your unorthodox<br>tactics, your survival and the<br>crippling of Crimson Dawn<br>earned you a commendation and<br>a fast track to piloting<br>advanced craft, ensuring a<br>promising future within the<br>Empire, yet whispering doubts<br>still linger about the cost of<br>your unwavering loyalty.",
          "<b>node_0_1_1_2_2</b><br>Despite your desperate<br>efforts, the distress beacon<br>remained unanswered. The<br>Crimson Dawn fighters,<br>relentless and brutal, finally<br>overwhelmed your damaged TIE.<br>As your ship succumbed to<br>enemy fire, a wave of regret<br>washed over you, knowing your<br>last act was a futile attempt<br>to uphold a crumbling ideal,<br>lost in the vast, uncaring<br>expanse of the Outer Rim.",
          "<b>node_0_1_2_1_1</b><br>Adrenaline surging, you divert<br>all power to the TIE's forward<br>cannons. The lead fighter, a<br>mangled, Crimson Dawn modified<br>Z-95 Headhunter, fills your<br>viewscreen. You unleash a<br>devastating barrage; a lucky<br>shot connects, ripping through<br>the Headhunter's engines in a<br>blinding explosion. The enemy<br>formation scatters, their<br>momentum broken, allowing you<br>to limp back to Imperial<br>space, hailed as a hero for<br>turning the tide against<br>overwhelming odds, though<br>forever haunted by the cost of<br>survival.",
          "<b>node_0_1_2_1_2</b><br>You pour every last iota of<br>energy into your TIE's<br>weapons, bracing for impact.<br>The Headhunter's return fire<br>is immediate and devastating.<br>Your cockpit explodes in a<br>shower of sparks and alarms as<br>the TIE fighter buckles and<br>spins wildly. Though your<br>desperate attack damages the<br>lead fighter, slowing their<br>advance, you succumb to the<br>inferno. Your sacrifice buys<br>the Imperial outpost precious<br>time, allowing them to prepare<br>for the inevitable onslaught,<br>a delay for which they will be<br>eternally grateful.",
          "<b>node_0_1_2_2_1</b><br>The TIE fighter bucked<br>violently as laser fire<br>chipped away at its hull. Just<br>as your shields failed, a<br>squadron of Imperial fighters<br>roared into view, their<br>cannons blazing. You had<br>survived, bought time with<br>your skill and a desperate<br>gamble. Hailed as a hero for<br>holding off Crimson Dawn until<br>reinforcements arrived, you<br>are promoted and celebrated,<br>your initial brush with death<br>solidifying your unwavering<br>loyalty to the Empire.",
          "<b>node_0_1_2_2_2</b><br>Each twist and turn through<br>the asteroid field was a dance<br>with death, the TIE fighter<br>groaning under the strain. The<br>distress signal finally<br>pierced through the chaos, but<br>before reinforcements could<br>arrive, a lucky shot crippled<br>your engine. Drifting<br>helplessly amidst the<br>asteroids, the Crimson Dawn<br>raiders closed in, their<br>boarding craft locking onto<br>your damaged fighter. Capture<br>was inevitable; your Imperial<br>career, along with your<br>freedom, was over before it<br>truly began.",
          "<b>node_0_2_1_1_1</b><br>Careful scouting reveals the<br>Crimson Dawn stronghold is far<br>larger and more heavily<br>fortified than anticipated.<br>Realizing a direct assault is<br>suicide, you use your<br>knowledge of Imperial tactics<br>and the surrounding terrain to<br>orchestrate a daring raid,<br>disrupting their supply lines<br>and weakening their defenses.<br>This act of defiance, though<br>small, buys valuable time for<br>the scattered Twi'lek rebels<br>and inspires a flicker of hope<br>in the oppressed sector,<br>proving that even one person<br>can make a difference against<br>overwhelming odds.",
          "<b>node_0_2_1_1_2</b><br>Despite your meticulous<br>planning, a patrol spots you<br>just outside the Crimson Dawn<br>perimeter. A desperate<br>firefight ensues, drawing the<br>attention of the entire<br>garrison. Though you fight<br>bravely, using every trick you<br>learned in the Academy, the<br>superior numbers and weaponry<br>of Crimson Dawn overwhelm you.<br>Your last sight is the crimson<br>glow of their energy weapons<br>as they close in, a testament<br>to the brutal efficiency of<br>the underworld syndicate you<br>sought to outwit.",
          "<b>node_0_2_1_2_1</b><br>The speed proves advantageous<br>initially, allowing the player<br>to bypass Crimson Dawn's outer<br>defenses. However, the<br>'settlement' is a trap;<br>Crimson Dawn anticipated this<br>recklessness. Ambushed and<br>overwhelmed, the player is<br>captured, their knowledge of<br>the Rebel plans extracted<br>under duress, solidifying<br>Crimson Dawn's victory and the<br>Outer Rim's subjugation. The<br>echoes of rebellion are<br>silenced as a new dawn of<br>darkness rises, fueled by<br>stolen secrets and reckless<br>ambition.",
          "<b>node_0_2_1_2_2</b><br>Rushing ahead, the player<br>discovers the smoke originates<br>not from a settlement, but a<br>crashed Crimson Dawn supply<br>ship. A small group of<br>survivors, wounded and<br>desperate, are engaged in a<br>bitter infighting over the<br>remaining resources.<br>Exploiting their disarray, the<br>player seizes control of the<br>salvaged weaponry and<br>remaining fuel, escaping the<br>planet and delivering vital<br>intel to the Rebel Alliance,<br>turning the tide in a crucial<br>sector and earning<br>commendation, though the cost<br>of such impetuous decisions<br>will haunt future engagements.",
          "<b>node_0_2_2_1_1</b><br>The Imperial signal is<br>intercepted by a Star<br>Destroyer, but Crimson Dawn is<br>already upon you. A chaotic<br>space battle erupts, the TIE<br>fighter a fragile pawn in the<br>larger conflict. Miraculously,<br>you survive, your actions<br>hailed as heroic defiance<br>against the pirates, but the<br>lingering fear of Crimson<br>Dawn's relentless pursuit and<br>the horrors witnessed during<br>the ambush leave an indelible<br>mark, turning the celebrated<br>pilot into a hardened warrior<br>forever haunted by the echoes<br>of rebellion.",
          "<b>node_0_2_2_1_2</b><br>Crimson Dawn intercepts the<br>Imperial distress call,<br>arriving to capture the pilot<br>before Imperial reinforcements<br>can. Under the brutal<br>interrogation of the<br>lieutenant, the pilot cracks,<br>revealing sensitive Imperial<br>secrets and aiding Crimson<br>Dawn's growing campaign. The<br>Empire suffers a series of<br>devastating blows as a result,<br>and the pilot, now a pawn in a<br>game much bigger than<br>themselves, is left to grapple<br>with the consequences of their<br>survival and the knowledge<br>that they have inadvertently<br>fueled the darkness consuming<br>the Outer Rim.",
          "<b>node_0_2_2_2_1</b><br>Driven by a desperate need to<br>survive, you press on, using<br>your Imperial training to your<br>advantage. Weeks turn into<br>months, and you manage to make<br>contact with a remote Rebel<br>outpost. However, the harsh<br>experience has fundamentally<br>changed you; the ideals of the<br>Empire seem hollow, and the<br>promise of freedom feels<br>equally distant. You choose to<br>remain in the outpost, a ghost<br>of your former self, forever<br>caught between two worlds, a<br>silent observer of a war you<br>no longer feel a part of.",
          "<b>node_0_2_2_2_2</b><br>Weak and delirious, hope seems<br>lost. Stumbling through the<br>alien landscape, you collapse,<br>the last vestiges of your<br>Imperial allegiance fading<br>with the setting sun. A band<br>of scavenging Jawas find you,<br>and in their cryptic way,<br>offer sustenance and<br>transport. You awaken aboard<br>their sandcrawler, your future<br>uncertain, but one thing is<br>clear: the Empire is a distant<br>memory. Perhaps a new life<br>among the desert folk awaits,<br>a life far removed from the<br>galactic conflict."
         ],
         "marker": {
          "color": [
           "#A0CBE8",
           "#A0CBE8",
           "#A0CBE8",
           "#A0CBE8",
           "#A0CBE8",
           "#A0CBE8",
           "#A0CBE8",
           "#A0CBE8",
           "#A0CBE8",
           "#A0CBE8",
           "#A0CBE8",
           "#A0CBE8",
           "#A0CBE8",
           "#A0CBE8",
           "#A0CBE8",
           "#A0CBE8",
           "#A0CBE8",
           "#A0CBE8",
           "#A0CBE8",
           "#A0CBE8",
           "#A0CBE8",
           "#A0CBE8",
           "#A0CBE8",
           "#A0CBE8",
           "#A0CBE8",
           "#A0CBE8",
           "#A0CBE8",
           "#A0CBE8",
           "#A0CBE8",
           "#A0CBE8",
           "#A0CBE8"
          ],
          "size": 22,
          "symbol": "square"
         },
         "mode": "markers+text",
         "name": "Scenes",
         "text": [
          "ID: 0",
          "ID: 1",
          "ID: 2",
          "ID: 1",
          "ID: 2",
          "ID: 1",
          "ID: 2",
          "ID: 1",
          "ID: 2",
          "ID: 1",
          "ID: 2",
          "ID: 1",
          "ID: 2",
          "ID: 1",
          "ID: 2",
          "ID: 1",
          "ID: 2",
          "ID: 1",
          "ID: 2",
          "ID: 1",
          "ID: 2",
          "ID: 1",
          "ID: 2",
          "ID: 1",
          "ID: 2",
          "ID: 1",
          "ID: 2",
          "ID: 1",
          "ID: 2",
          "ID: 1",
          "ID: 2"
         ],
         "textposition": "top center",
         "type": "scatter",
         "x": [
          0,
          2,
          2,
          4,
          4,
          4,
          4,
          6,
          6,
          6,
          6,
          6,
          6,
          6,
          6,
          8,
          8,
          8,
          8,
          8,
          8,
          8,
          8,
          8,
          8,
          8,
          8,
          8,
          8,
          8,
          8
         ],
         "y": [
          0,
          -0.7,
          0.7,
          -2.0999999999999996,
          -0.7,
          0.7,
          2.0999999999999996,
          -4.8999999999999995,
          -3.5,
          -2.0999999999999996,
          -0.7,
          0.7,
          2.0999999999999996,
          3.5,
          4.8999999999999995,
          -10.5,
          -9.1,
          -7.699999999999999,
          -6.3,
          -4.8999999999999995,
          -3.5,
          -2.0999999999999996,
          -0.7,
          0.7,
          2.0999999999999996,
          3.5,
          4.8999999999999995,
          6.3,
          7.699999999999999,
          9.1,
          10.5
         ]
        },
        {
         "cliponaxis": false,
         "hoverinfo": "text",
         "hovertext": [
          "node_0 → node_0_1",
          "node_0 → node_0_2",
          "node_0_1 → node_0_1_1",
          "node_0_1 → node_0_1_2",
          "node_0_2 → node_0_2_1",
          "node_0_2 → node_0_2_2",
          "node_0_1_1 → node_0_1_1_1",
          "node_0_1_1 → node_0_1_1_2",
          "node_0_1_2 → node_0_1_2_1",
          "node_0_1_2 → node_0_1_2_2",
          "node_0_2_1 → node_0_2_1_1",
          "node_0_2_1 → node_0_2_1_2",
          "node_0_2_2 → node_0_2_2_1",
          "node_0_2_2 → node_0_2_2_2",
          "node_0_1_1_1 → node_0_1_1_1_1",
          "node_0_1_1_1 → node_0_1_1_1_2",
          "node_0_1_1_2 → node_0_1_1_2_1",
          "node_0_1_1_2 → node_0_1_1_2_2",
          "node_0_1_2_1 → node_0_1_2_1_1",
          "node_0_1_2_1 → node_0_1_2_1_2",
          "node_0_1_2_2 → node_0_1_2_2_1",
          "node_0_1_2_2 → node_0_1_2_2_2",
          "node_0_2_1_1 → node_0_2_1_1_1",
          "node_0_2_1_1 → node_0_2_1_1_2",
          "node_0_2_1_2 → node_0_2_1_2_1",
          "node_0_2_1_2 → node_0_2_1_2_2",
          "node_0_2_2_1 → node_0_2_2_1_1",
          "node_0_2_2_1 → node_0_2_2_1_2",
          "node_0_2_2_2 → node_0_2_2_2_1",
          "node_0_2_2_2 → node_0_2_2_2_2"
         ],
         "marker": {
          "color": [
           "#FFDAC1",
           "#FFDAC1",
           "#FFDAC1",
           "#FFDAC1",
           "#FFDAC1",
           "#FFDAC1",
           "#FFDAC1",
           "#FFDAC1",
           "#FFDAC1",
           "#FFDAC1",
           "#FFDAC1",
           "#FFDAC1",
           "#FFDAC1",
           "#FFDAC1",
           "#FFDAC1",
           "#FFDAC1",
           "#FFDAC1",
           "#FFDAC1",
           "#FFDAC1",
           "#FFDAC1",
           "#FFDAC1",
           "#FFDAC1",
           "#FFDAC1",
           "#FFDAC1",
           "#FFDAC1",
           "#FFDAC1",
           "#FFDAC1",
           "#FFDAC1",
           "#FFDAC1",
           "#FFDAC1"
          ],
          "size": 15,
          "symbol": "circle"
         },
         "mode": "markers",
         "name": "Choices",
         "type": "scatter",
         "x": [
          1,
          1,
          3,
          3,
          3,
          3,
          5,
          5,
          5,
          5,
          5,
          5,
          5,
          5,
          7,
          7,
          7,
          7,
          7,
          7,
          7,
          7,
          7,
          7,
          7,
          7,
          7,
          7,
          7,
          7
         ],
         "y": [
          -0.35,
          0.35,
          -1.4,
          -0.7,
          0.7,
          1.4,
          -3.4999999999999996,
          -2.8,
          -1.4,
          -0.7,
          0.7,
          1.4,
          2.8,
          3.4999999999999996,
          -7.699999999999999,
          -7,
          -5.6,
          -4.9,
          -3.4999999999999996,
          -2.8,
          -1.4,
          -0.7,
          0.7,
          1.4,
          2.8,
          3.4999999999999996,
          4.9,
          5.6,
          7,
          7.699999999999999
         ]
        }
       ],
       "layout": {
        "annotations": [
         {
          "arrowhead": 2,
          "arrowwidth": 1,
          "ax": 0,
          "axref": "x",
          "ay": 0,
          "ayref": "y",
          "opacity": 0.5,
          "showarrow": true,
          "x": 2,
          "xref": "x",
          "y": -0.7,
          "yref": "y"
         },
         {
          "arrowhead": 2,
          "arrowwidth": 1,
          "ax": 0,
          "axref": "x",
          "ay": 0,
          "ayref": "y",
          "opacity": 0.5,
          "showarrow": true,
          "x": 2,
          "xref": "x",
          "y": 0.7,
          "yref": "y"
         },
         {
          "arrowhead": 2,
          "arrowwidth": 1,
          "ax": 2,
          "axref": "x",
          "ay": -0.7,
          "ayref": "y",
          "opacity": 0.5,
          "showarrow": true,
          "x": 4,
          "xref": "x",
          "y": -2.0999999999999996,
          "yref": "y"
         },
         {
          "arrowhead": 2,
          "arrowwidth": 1,
          "ax": 2,
          "axref": "x",
          "ay": -0.7,
          "ayref": "y",
          "opacity": 0.5,
          "showarrow": true,
          "x": 4,
          "xref": "x",
          "y": -0.7,
          "yref": "y"
         },
         {
          "arrowhead": 2,
          "arrowwidth": 1,
          "ax": 2,
          "axref": "x",
          "ay": 0.7,
          "ayref": "y",
          "opacity": 0.5,
          "showarrow": true,
          "x": 4,
          "xref": "x",
          "y": 0.7,
          "yref": "y"
         },
         {
          "arrowhead": 2,
          "arrowwidth": 1,
          "ax": 2,
          "axref": "x",
          "ay": 0.7,
          "ayref": "y",
          "opacity": 0.5,
          "showarrow": true,
          "x": 4,
          "xref": "x",
          "y": 2.0999999999999996,
          "yref": "y"
         },
         {
          "arrowhead": 2,
          "arrowwidth": 1,
          "ax": 4,
          "axref": "x",
          "ay": -2.0999999999999996,
          "ayref": "y",
          "opacity": 0.5,
          "showarrow": true,
          "x": 6,
          "xref": "x",
          "y": -4.8999999999999995,
          "yref": "y"
         },
         {
          "arrowhead": 2,
          "arrowwidth": 1,
          "ax": 4,
          "axref": "x",
          "ay": -2.0999999999999996,
          "ayref": "y",
          "opacity": 0.5,
          "showarrow": true,
          "x": 6,
          "xref": "x",
          "y": -3.5,
          "yref": "y"
         },
         {
          "arrowhead": 2,
          "arrowwidth": 1,
          "ax": 4,
          "axref": "x",
          "ay": -0.7,
          "ayref": "y",
          "opacity": 0.5,
          "showarrow": true,
          "x": 6,
          "xref": "x",
          "y": -2.0999999999999996,
          "yref": "y"
         },
         {
          "arrowhead": 2,
          "arrowwidth": 1,
          "ax": 4,
          "axref": "x",
          "ay": -0.7,
          "ayref": "y",
          "opacity": 0.5,
          "showarrow": true,
          "x": 6,
          "xref": "x",
          "y": -0.7,
          "yref": "y"
         },
         {
          "arrowhead": 2,
          "arrowwidth": 1,
          "ax": 4,
          "axref": "x",
          "ay": 0.7,
          "ayref": "y",
          "opacity": 0.5,
          "showarrow": true,
          "x": 6,
          "xref": "x",
          "y": 0.7,
          "yref": "y"
         },
         {
          "arrowhead": 2,
          "arrowwidth": 1,
          "ax": 4,
          "axref": "x",
          "ay": 0.7,
          "ayref": "y",
          "opacity": 0.5,
          "showarrow": true,
          "x": 6,
          "xref": "x",
          "y": 2.0999999999999996,
          "yref": "y"
         },
         {
          "arrowhead": 2,
          "arrowwidth": 1,
          "ax": 4,
          "axref": "x",
          "ay": 2.0999999999999996,
          "ayref": "y",
          "opacity": 0.5,
          "showarrow": true,
          "x": 6,
          "xref": "x",
          "y": 3.5,
          "yref": "y"
         },
         {
          "arrowhead": 2,
          "arrowwidth": 1,
          "ax": 4,
          "axref": "x",
          "ay": 2.0999999999999996,
          "ayref": "y",
          "opacity": 0.5,
          "showarrow": true,
          "x": 6,
          "xref": "x",
          "y": 4.8999999999999995,
          "yref": "y"
         },
         {
          "arrowhead": 2,
          "arrowwidth": 1,
          "ax": 6,
          "axref": "x",
          "ay": -4.8999999999999995,
          "ayref": "y",
          "opacity": 0.5,
          "showarrow": true,
          "x": 8,
          "xref": "x",
          "y": -10.5,
          "yref": "y"
         },
         {
          "arrowhead": 2,
          "arrowwidth": 1,
          "ax": 6,
          "axref": "x",
          "ay": -4.8999999999999995,
          "ayref": "y",
          "opacity": 0.5,
          "showarrow": true,
          "x": 8,
          "xref": "x",
          "y": -9.1,
          "yref": "y"
         },
         {
          "arrowhead": 2,
          "arrowwidth": 1,
          "ax": 6,
          "axref": "x",
          "ay": -3.5,
          "ayref": "y",
          "opacity": 0.5,
          "showarrow": true,
          "x": 8,
          "xref": "x",
          "y": -7.699999999999999,
          "yref": "y"
         },
         {
          "arrowhead": 2,
          "arrowwidth": 1,
          "ax": 6,
          "axref": "x",
          "ay": -3.5,
          "ayref": "y",
          "opacity": 0.5,
          "showarrow": true,
          "x": 8,
          "xref": "x",
          "y": -6.3,
          "yref": "y"
         },
         {
          "arrowhead": 2,
          "arrowwidth": 1,
          "ax": 6,
          "axref": "x",
          "ay": -2.0999999999999996,
          "ayref": "y",
          "opacity": 0.5,
          "showarrow": true,
          "x": 8,
          "xref": "x",
          "y": -4.8999999999999995,
          "yref": "y"
         },
         {
          "arrowhead": 2,
          "arrowwidth": 1,
          "ax": 6,
          "axref": "x",
          "ay": -2.0999999999999996,
          "ayref": "y",
          "opacity": 0.5,
          "showarrow": true,
          "x": 8,
          "xref": "x",
          "y": -3.5,
          "yref": "y"
         },
         {
          "arrowhead": 2,
          "arrowwidth": 1,
          "ax": 6,
          "axref": "x",
          "ay": -0.7,
          "ayref": "y",
          "opacity": 0.5,
          "showarrow": true,
          "x": 8,
          "xref": "x",
          "y": -2.0999999999999996,
          "yref": "y"
         },
         {
          "arrowhead": 2,
          "arrowwidth": 1,
          "ax": 6,
          "axref": "x",
          "ay": -0.7,
          "ayref": "y",
          "opacity": 0.5,
          "showarrow": true,
          "x": 8,
          "xref": "x",
          "y": -0.7,
          "yref": "y"
         },
         {
          "arrowhead": 2,
          "arrowwidth": 1,
          "ax": 6,
          "axref": "x",
          "ay": 0.7,
          "ayref": "y",
          "opacity": 0.5,
          "showarrow": true,
          "x": 8,
          "xref": "x",
          "y": 0.7,
          "yref": "y"
         },
         {
          "arrowhead": 2,
          "arrowwidth": 1,
          "ax": 6,
          "axref": "x",
          "ay": 0.7,
          "ayref": "y",
          "opacity": 0.5,
          "showarrow": true,
          "x": 8,
          "xref": "x",
          "y": 2.0999999999999996,
          "yref": "y"
         },
         {
          "arrowhead": 2,
          "arrowwidth": 1,
          "ax": 6,
          "axref": "x",
          "ay": 2.0999999999999996,
          "ayref": "y",
          "opacity": 0.5,
          "showarrow": true,
          "x": 8,
          "xref": "x",
          "y": 3.5,
          "yref": "y"
         },
         {
          "arrowhead": 2,
          "arrowwidth": 1,
          "ax": 6,
          "axref": "x",
          "ay": 2.0999999999999996,
          "ayref": "y",
          "opacity": 0.5,
          "showarrow": true,
          "x": 8,
          "xref": "x",
          "y": 4.8999999999999995,
          "yref": "y"
         },
         {
          "arrowhead": 2,
          "arrowwidth": 1,
          "ax": 6,
          "axref": "x",
          "ay": 3.5,
          "ayref": "y",
          "opacity": 0.5,
          "showarrow": true,
          "x": 8,
          "xref": "x",
          "y": 6.3,
          "yref": "y"
         },
         {
          "arrowhead": 2,
          "arrowwidth": 1,
          "ax": 6,
          "axref": "x",
          "ay": 3.5,
          "ayref": "y",
          "opacity": 0.5,
          "showarrow": true,
          "x": 8,
          "xref": "x",
          "y": 7.699999999999999,
          "yref": "y"
         },
         {
          "arrowhead": 2,
          "arrowwidth": 1,
          "ax": 6,
          "axref": "x",
          "ay": 4.8999999999999995,
          "ayref": "y",
          "opacity": 0.5,
          "showarrow": true,
          "x": 8,
          "xref": "x",
          "y": 9.1,
          "yref": "y"
         },
         {
          "arrowhead": 2,
          "arrowwidth": 1,
          "ax": 6,
          "axref": "x",
          "ay": 4.8999999999999995,
          "ayref": "y",
          "opacity": 0.5,
          "showarrow": true,
          "x": 8,
          "xref": "x",
          "y": 10.5,
          "yref": "y"
         }
        ],
        "hovermode": "closest",
        "margin": {
         "b": 40,
         "l": 40,
         "r": 40,
         "t": 60
        },
        "paper_bgcolor": "white",
        "plot_bgcolor": "white",
        "template": {
         "data": {
          "bar": [
           {
            "error_x": {
             "color": "#2a3f5f"
            },
            "error_y": {
             "color": "#2a3f5f"
            },
            "marker": {
             "line": {
              "color": "#E5ECF6",
              "width": 0.5
             },
             "pattern": {
              "fillmode": "overlay",
              "size": 10,
              "solidity": 0.2
             }
            },
            "type": "bar"
           }
          ],
          "barpolar": [
           {
            "marker": {
             "line": {
              "color": "#E5ECF6",
              "width": 0.5
             },
             "pattern": {
              "fillmode": "overlay",
              "size": 10,
              "solidity": 0.2
             }
            },
            "type": "barpolar"
           }
          ],
          "carpet": [
           {
            "aaxis": {
             "endlinecolor": "#2a3f5f",
             "gridcolor": "white",
             "linecolor": "white",
             "minorgridcolor": "white",
             "startlinecolor": "#2a3f5f"
            },
            "baxis": {
             "endlinecolor": "#2a3f5f",
             "gridcolor": "white",
             "linecolor": "white",
             "minorgridcolor": "white",
             "startlinecolor": "#2a3f5f"
            },
            "type": "carpet"
           }
          ],
          "choropleth": [
           {
            "colorbar": {
             "outlinewidth": 0,
             "ticks": ""
            },
            "type": "choropleth"
           }
          ],
          "contour": [
           {
            "colorbar": {
             "outlinewidth": 0,
             "ticks": ""
            },
            "colorscale": [
             [
              0,
              "#0d0887"
             ],
             [
              0.1111111111111111,
              "#46039f"
             ],
             [
              0.2222222222222222,
              "#7201a8"
             ],
             [
              0.3333333333333333,
              "#9c179e"
             ],
             [
              0.4444444444444444,
              "#bd3786"
             ],
             [
              0.5555555555555556,
              "#d8576b"
             ],
             [
              0.6666666666666666,
              "#ed7953"
             ],
             [
              0.7777777777777778,
              "#fb9f3a"
             ],
             [
              0.8888888888888888,
              "#fdca26"
             ],
             [
              1,
              "#f0f921"
             ]
            ],
            "type": "contour"
           }
          ],
          "contourcarpet": [
           {
            "colorbar": {
             "outlinewidth": 0,
             "ticks": ""
            },
            "type": "contourcarpet"
           }
          ],
          "heatmap": [
           {
            "colorbar": {
             "outlinewidth": 0,
             "ticks": ""
            },
            "colorscale": [
             [
              0,
              "#0d0887"
             ],
             [
              0.1111111111111111,
              "#46039f"
             ],
             [
              0.2222222222222222,
              "#7201a8"
             ],
             [
              0.3333333333333333,
              "#9c179e"
             ],
             [
              0.4444444444444444,
              "#bd3786"
             ],
             [
              0.5555555555555556,
              "#d8576b"
             ],
             [
              0.6666666666666666,
              "#ed7953"
             ],
             [
              0.7777777777777778,
              "#fb9f3a"
             ],
             [
              0.8888888888888888,
              "#fdca26"
             ],
             [
              1,
              "#f0f921"
             ]
            ],
            "type": "heatmap"
           }
          ],
          "histogram": [
           {
            "marker": {
             "pattern": {
              "fillmode": "overlay",
              "size": 10,
              "solidity": 0.2
             }
            },
            "type": "histogram"
           }
          ],
          "histogram2d": [
           {
            "colorbar": {
             "outlinewidth": 0,
             "ticks": ""
            },
            "colorscale": [
             [
              0,
              "#0d0887"
             ],
             [
              0.1111111111111111,
              "#46039f"
             ],
             [
              0.2222222222222222,
              "#7201a8"
             ],
             [
              0.3333333333333333,
              "#9c179e"
             ],
             [
              0.4444444444444444,
              "#bd3786"
             ],
             [
              0.5555555555555556,
              "#d8576b"
             ],
             [
              0.6666666666666666,
              "#ed7953"
             ],
             [
              0.7777777777777778,
              "#fb9f3a"
             ],
             [
              0.8888888888888888,
              "#fdca26"
             ],
             [
              1,
              "#f0f921"
             ]
            ],
            "type": "histogram2d"
           }
          ],
          "histogram2dcontour": [
           {
            "colorbar": {
             "outlinewidth": 0,
             "ticks": ""
            },
            "colorscale": [
             [
              0,
              "#0d0887"
             ],
             [
              0.1111111111111111,
              "#46039f"
             ],
             [
              0.2222222222222222,
              "#7201a8"
             ],
             [
              0.3333333333333333,
              "#9c179e"
             ],
             [
              0.4444444444444444,
              "#bd3786"
             ],
             [
              0.5555555555555556,
              "#d8576b"
             ],
             [
              0.6666666666666666,
              "#ed7953"
             ],
             [
              0.7777777777777778,
              "#fb9f3a"
             ],
             [
              0.8888888888888888,
              "#fdca26"
             ],
             [
              1,
              "#f0f921"
             ]
            ],
            "type": "histogram2dcontour"
           }
          ],
          "mesh3d": [
           {
            "colorbar": {
             "outlinewidth": 0,
             "ticks": ""
            },
            "type": "mesh3d"
           }
          ],
          "parcoords": [
           {
            "line": {
             "colorbar": {
              "outlinewidth": 0,
              "ticks": ""
             }
            },
            "type": "parcoords"
           }
          ],
          "pie": [
           {
            "automargin": true,
            "type": "pie"
           }
          ],
          "scatter": [
           {
            "fillpattern": {
             "fillmode": "overlay",
             "size": 10,
             "solidity": 0.2
            },
            "type": "scatter"
           }
          ],
          "scatter3d": [
           {
            "line": {
             "colorbar": {
              "outlinewidth": 0,
              "ticks": ""
             }
            },
            "marker": {
             "colorbar": {
              "outlinewidth": 0,
              "ticks": ""
             }
            },
            "type": "scatter3d"
           }
          ],
          "scattercarpet": [
           {
            "marker": {
             "colorbar": {
              "outlinewidth": 0,
              "ticks": ""
             }
            },
            "type": "scattercarpet"
           }
          ],
          "scattergeo": [
           {
            "marker": {
             "colorbar": {
              "outlinewidth": 0,
              "ticks": ""
             }
            },
            "type": "scattergeo"
           }
          ],
          "scattergl": [
           {
            "marker": {
             "colorbar": {
              "outlinewidth": 0,
              "ticks": ""
             }
            },
            "type": "scattergl"
           }
          ],
          "scattermap": [
           {
            "marker": {
             "colorbar": {
              "outlinewidth": 0,
              "ticks": ""
             }
            },
            "type": "scattermap"
           }
          ],
          "scattermapbox": [
           {
            "marker": {
             "colorbar": {
              "outlinewidth": 0,
              "ticks": ""
             }
            },
            "type": "scattermapbox"
           }
          ],
          "scatterpolar": [
           {
            "marker": {
             "colorbar": {
              "outlinewidth": 0,
              "ticks": ""
             }
            },
            "type": "scatterpolar"
           }
          ],
          "scatterpolargl": [
           {
            "marker": {
             "colorbar": {
              "outlinewidth": 0,
              "ticks": ""
             }
            },
            "type": "scatterpolargl"
           }
          ],
          "scatterternary": [
           {
            "marker": {
             "colorbar": {
              "outlinewidth": 0,
              "ticks": ""
             }
            },
            "type": "scatterternary"
           }
          ],
          "surface": [
           {
            "colorbar": {
             "outlinewidth": 0,
             "ticks": ""
            },
            "colorscale": [
             [
              0,
              "#0d0887"
             ],
             [
              0.1111111111111111,
              "#46039f"
             ],
             [
              0.2222222222222222,
              "#7201a8"
             ],
             [
              0.3333333333333333,
              "#9c179e"
             ],
             [
              0.4444444444444444,
              "#bd3786"
             ],
             [
              0.5555555555555556,
              "#d8576b"
             ],
             [
              0.6666666666666666,
              "#ed7953"
             ],
             [
              0.7777777777777778,
              "#fb9f3a"
             ],
             [
              0.8888888888888888,
              "#fdca26"
             ],
             [
              1,
              "#f0f921"
             ]
            ],
            "type": "surface"
           }
          ],
          "table": [
           {
            "cells": {
             "fill": {
              "color": "#EBF0F8"
             },
             "line": {
              "color": "white"
             }
            },
            "header": {
             "fill": {
              "color": "#C8D4E3"
             },
             "line": {
              "color": "white"
             }
            },
            "type": "table"
           }
          ]
         },
         "layout": {
          "annotationdefaults": {
           "arrowcolor": "#2a3f5f",
           "arrowhead": 0,
           "arrowwidth": 1
          },
          "autotypenumbers": "strict",
          "coloraxis": {
           "colorbar": {
            "outlinewidth": 0,
            "ticks": ""
           }
          },
          "colorscale": {
           "diverging": [
            [
             0,
             "#8e0152"
            ],
            [
             0.1,
             "#c51b7d"
            ],
            [
             0.2,
             "#de77ae"
            ],
            [
             0.3,
             "#f1b6da"
            ],
            [
             0.4,
             "#fde0ef"
            ],
            [
             0.5,
             "#f7f7f7"
            ],
            [
             0.6,
             "#e6f5d0"
            ],
            [
             0.7,
             "#b8e186"
            ],
            [
             0.8,
             "#7fbc41"
            ],
            [
             0.9,
             "#4d9221"
            ],
            [
             1,
             "#276419"
            ]
           ],
           "sequential": [
            [
             0,
             "#0d0887"
            ],
            [
             0.1111111111111111,
             "#46039f"
            ],
            [
             0.2222222222222222,
             "#7201a8"
            ],
            [
             0.3333333333333333,
             "#9c179e"
            ],
            [
             0.4444444444444444,
             "#bd3786"
            ],
            [
             0.5555555555555556,
             "#d8576b"
            ],
            [
             0.6666666666666666,
             "#ed7953"
            ],
            [
             0.7777777777777778,
             "#fb9f3a"
            ],
            [
             0.8888888888888888,
             "#fdca26"
            ],
            [
             1,
             "#f0f921"
            ]
           ],
           "sequentialminus": [
            [
             0,
             "#0d0887"
            ],
            [
             0.1111111111111111,
             "#46039f"
            ],
            [
             0.2222222222222222,
             "#7201a8"
            ],
            [
             0.3333333333333333,
             "#9c179e"
            ],
            [
             0.4444444444444444,
             "#bd3786"
            ],
            [
             0.5555555555555556,
             "#d8576b"
            ],
            [
             0.6666666666666666,
             "#ed7953"
            ],
            [
             0.7777777777777778,
             "#fb9f3a"
            ],
            [
             0.8888888888888888,
             "#fdca26"
            ],
            [
             1,
             "#f0f921"
            ]
           ]
          },
          "colorway": [
           "#636efa",
           "#EF553B",
           "#00cc96",
           "#ab63fa",
           "#FFA15A",
           "#19d3f3",
           "#FF6692",
           "#B6E880",
           "#FF97FF",
           "#FECB52"
          ],
          "font": {
           "color": "#2a3f5f"
          },
          "geo": {
           "bgcolor": "white",
           "lakecolor": "white",
           "landcolor": "#E5ECF6",
           "showlakes": true,
           "showland": true,
           "subunitcolor": "white"
          },
          "hoverlabel": {
           "align": "left"
          },
          "hovermode": "closest",
          "mapbox": {
           "style": "light"
          },
          "paper_bgcolor": "white",
          "plot_bgcolor": "#E5ECF6",
          "polar": {
           "angularaxis": {
            "gridcolor": "white",
            "linecolor": "white",
            "ticks": ""
           },
           "bgcolor": "#E5ECF6",
           "radialaxis": {
            "gridcolor": "white",
            "linecolor": "white",
            "ticks": ""
           }
          },
          "scene": {
           "xaxis": {
            "backgroundcolor": "#E5ECF6",
            "gridcolor": "white",
            "gridwidth": 2,
            "linecolor": "white",
            "showbackground": true,
            "ticks": "",
            "zerolinecolor": "white"
           },
           "yaxis": {
            "backgroundcolor": "#E5ECF6",
            "gridcolor": "white",
            "gridwidth": 2,
            "linecolor": "white",
            "showbackground": true,
            "ticks": "",
            "zerolinecolor": "white"
           },
           "zaxis": {
            "backgroundcolor": "#E5ECF6",
            "gridcolor": "white",
            "gridwidth": 2,
            "linecolor": "white",
            "showbackground": true,
            "ticks": "",
            "zerolinecolor": "white"
           }
          },
          "shapedefaults": {
           "line": {
            "color": "#2a3f5f"
           }
          },
          "ternary": {
           "aaxis": {
            "gridcolor": "white",
            "linecolor": "white",
            "ticks": ""
           },
           "baxis": {
            "gridcolor": "white",
            "linecolor": "white",
            "ticks": ""
           },
           "bgcolor": "#E5ECF6",
           "caxis": {
            "gridcolor": "white",
            "linecolor": "white",
            "ticks": ""
           }
          },
          "title": {
           "x": 0.05
          },
          "xaxis": {
           "automargin": true,
           "gridcolor": "white",
           "linecolor": "white",
           "ticks": "",
           "title": {
            "standoff": 15
           },
           "zerolinecolor": "white",
           "zerolinewidth": 2
          },
          "yaxis": {
           "automargin": true,
           "gridcolor": "white",
           "linecolor": "white",
           "ticks": "",
           "title": {
            "standoff": 15
           },
           "zerolinecolor": "white",
           "zerolinewidth": 2
          }
         }
        },
        "title": {
         "text": "Star Wars Interactive Story"
        },
        "xaxis": {
         "visible": false
        },
        "yaxis": {
         "visible": false
        }
       }
      }
     },
     "metadata": {},
     "output_type": "display_data"
    }
   ],
   "source": [
    "story_data = load_story_json(\"star_wars_story.json\")\n",
    "G, attrs, root = build_story_graph(story_data)\n",
    "pos = flat_tree_layout(G, root)             \n",
    "fig = story_fig(G, attrs, pos, title=\"Star Wars Interactive Story\")\n",
    "fig.show()\n"
   ]
  }
 ],
 "metadata": {
  "kernelspec": {
   "display_name": ".venv",
   "language": "python",
   "name": "python3"
  },
  "language_info": {
   "codemirror_mode": {
    "name": "ipython",
    "version": 3
   },
   "file_extension": ".py",
   "mimetype": "text/x-python",
   "name": "python",
   "nbconvert_exporter": "python",
   "pygments_lexer": "ipython3",
   "version": "3.13.2"
  }
 },
 "nbformat": 4,
 "nbformat_minor": 4
}
