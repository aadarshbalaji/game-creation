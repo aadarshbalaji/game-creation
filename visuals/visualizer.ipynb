{
 "cells": [
  {
   "cell_type": "code",
   "execution_count": 8,
   "metadata": {},
   "outputs": [],
   "source": [
    "# !pip install plotly networkx ipywidgets --quiet   # run once\n",
    "import json, textwrap, networkx as nx, plotly.graph_objects as go\n",
    "from collections import defaultdict\n",
    "from IPython.display import display\n"
   ]
  },
  {
   "cell_type": "markdown",
   "metadata": {},
   "source": [
    "## Load Story Data"
   ]
  },
  {
   "cell_type": "code",
   "execution_count": 9,
   "metadata": {},
   "outputs": [],
   "source": [
    "import json\n",
    "import networkx as nx\n",
    "import textwrap\n",
    "\n",
    "\n",
    "def wrap_text(txt, width=40):\n",
    "    \"\"\"Wrap text at the given width and insert HTML line breaks.\"\"\"\n",
    "    return \"<br>\".join(textwrap.wrap(txt, width=width))\n",
    "\n",
    "\n",
    "def load_story_json(path):\n",
    "    \"\"\"Load and return the JSON content from the given file path.\"\"\"\n",
    "    with open(path, 'r') as f:\n",
    "        return json.load(f)\n",
    "\n",
    "\n",
    "def build_story_graph(story_dict):\n",
    "    \"\"\"\n",
    "    Build a directed story graph from the given story dictionary.\n",
    "\n",
    "    Args:\n",
    "        story_dict (dict): The full story data, including 'graph' and optional 'story_state'.\n",
    "\n",
    "    Returns:\n",
    "        G (nx.DiGraph): The directed graph of story nodes.\n",
    "        node_attrs (dict): A mapping from node ID to its attributes (including '__visited').\n",
    "        root (str): The ID of the root node (defaults to 'node_0').\n",
    "    \"\"\"\n",
    "    graph_data = story_dict.get(\"graph\", {})\n",
    "    nodes = graph_data.get(\"nodes\", {})\n",
    "    edges = graph_data.get(\"edges\", [])\n",
    "\n",
    "    G = nx.DiGraph()\n",
    "    node_attrs = {}\n",
    "\n",
    "    # Determine which nodes have been visited\n",
    "    visited_set = set()\n",
    "    state = story_dict.get(\"story_state\", {})\n",
    "    for n in state.get(\"visited_nodes\", []):\n",
    "        visited_set.add(str(n))\n",
    "\n",
    "    # Add nodes with attributes\n",
    "    for nid, data in nodes.items():\n",
    "        G.add_node(nid)\n",
    "        # mark visited\n",
    "        data['__visited'] = nid in visited_set\n",
    "        node_attrs[nid] = data\n",
    "\n",
    "    # Add edges\n",
    "    for edge in edges:\n",
    "        src = edge.get('from')\n",
    "        dst = edge.get('to')\n",
    "        G.add_edge(src, dst)\n",
    "\n",
    "    # Default root\n",
    "    root = 'node_0'\n",
    "    return G, node_attrs, root\n"
   ]
  },
  {
   "cell_type": "code",
   "execution_count": 10,
   "metadata": {},
   "outputs": [],
   "source": [
    "def bfs_layout(G, root=\"node_0\"):\n",
    "    levels = defaultdict(list)\n",
    "    for node in nx.bfs_tree(G, root):\n",
    "        lvl = nx.shortest_path_length(G, root, node)\n",
    "        levels[lvl].append(node)\n",
    "\n",
    "    pos = {}\n",
    "    for lvl, nodes in levels.items():\n",
    "        for i, n in enumerate(sorted(nodes)):\n",
    "            y = i - (len(nodes)-1)/2       \n",
    "            pos[n] = (lvl, y)\n",
    "    return pos\n"
   ]
  },
  {
   "cell_type": "code",
   "execution_count": 11,
   "metadata": {},
   "outputs": [],
   "source": [
    "import re, networkx as nx\n",
    "from collections import defaultdict\n",
    "\n",
    "def natural_key(s):\n",
    "    # 'node_0_12_3' → ['node_',0,'_',12,'_',3] so numeric parts sort correctly\n",
    "    return [int(t) if t.isdigit() else t for t in re.split(r'(\\d+)', s)]\n",
    "\n",
    "def flat_tree_layout(G, root=\"node_0\", x_gap=2.0, y_gap=1.4):\n",
    "    \"\"\"Return {node: (x,y)} with:\n",
    "       • x = depth * x_gap\n",
    "       • y = centred siblings; if a node has one child, child keeps same y\n",
    "    \"\"\"\n",
    "    levels = defaultdict(list)\n",
    "    for n in nx.bfs_tree(G, root):\n",
    "        levels[nx.shortest_path_length(G, root, n)].append(n)\n",
    "\n",
    "    pos = {}\n",
    "    for depth in sorted(levels):\n",
    "        level_nodes = sorted(levels[depth], key=natural_key)\n",
    "        mid = (len(level_nodes) - 1) / 2\n",
    "        for idx, n in enumerate(level_nodes):\n",
    "            # inherit y if this edge is part of a chain\n",
    "            parent = next(iter(G.predecessors(n)), None)\n",
    "            if parent and len(list(G.successors(parent))) == 1:\n",
    "                y = pos[parent][1]\n",
    "            else:\n",
    "                y = (idx - mid) * y_gap\n",
    "            pos[n] = (depth * x_gap, y)\n",
    "    return pos\n"
   ]
  },
  {
   "cell_type": "code",
   "execution_count": 12,
   "metadata": {},
   "outputs": [],
   "source": [
    "def format_hover(node):\n",
    "    \"\"\"Return a multi-line HTML hover string for a scene node.\"\"\"\n",
    "    data = node.copy()                       # shallow copy\n",
    "    ss   = data.get(\"scene_state\", {})\n",
    "    chars = data.get(\"characters\", {})\n",
    "    out   = data.get(\"outcome\", {})\n",
    "\n",
    "    # header line\n",
    "    lines = [f\"<b>{ss.get('location','Unknown')}</b> \"\n",
    "             f\"({ss.get('time_of_day','?')}, {ss.get('weather','?')})\"]\n",
    "\n",
    "    # end-scene tag\n",
    "    if data.get(\"is_end\"):\n",
    "        lines.append(\"<span style='color:#CC0000'><b>END NODE</b></span>\")\n",
    "\n",
    "    # short story preview\n",
    "    story_preview = wrap_text(data.get(\"story\", \"\"), width=40)\n",
    "    lines.append(f\"<i>{story_preview}</i>\")\n",
    "\n",
    "    # characters\n",
    "    if chars:\n",
    "        lines.append(\"<b>Characters:</b>\")\n",
    "        for cname, cinfo in chars.items():\n",
    "            role = cinfo.get(\"type\",\"\")\n",
    "            mood = cinfo.get(\"mood\",\"\")\n",
    "            hp   = cinfo.get(\"health\", \"?\")\n",
    "            lines.append(f\"• {cname} ({role}, {mood}, HP {hp})\")\n",
    "\n",
    "    # outcome\n",
    "    if out:\n",
    "        delta = []\n",
    "        if out.get(\"health_change\"):     delta.append(f\"HP {out['health_change']:+}\")\n",
    "        if out.get(\"experience_change\"): delta.append(f\"XP {out['experience_change']:+}\")\n",
    "        inv = out.get(\"inventory_changes\", [])\n",
    "        if inv: delta.append(f\"Inv ±{len(inv)}\")\n",
    "        if delta:\n",
    "            lines.append(\"<b>Outcome:</b> \" + \", \".join(delta))\n",
    "\n",
    "    return \"<br>\".join(lines)\n"
   ]
  },
  {
   "cell_type": "code",
   "execution_count": 13,
   "metadata": {},
   "outputs": [],
   "source": [
    "import plotly.graph_objects as go\n",
    "\n",
    "def story_fig(G, node_data, pos, highlight=None, title=\"Interactive Story\"):\n",
    "    highlight = set(str(h) for h in (highlight or []))\n",
    "\n",
    "    # ---- squares (scenes) ----\n",
    "    sx, sy, stxt, shover, scol = [], [], [], [], []\n",
    "    for nid, (x,y) in pos.items():\n",
    "        sx.append(x);  sy.append(y)\n",
    "        stxt.append(f\"ID: {nid.split('_')[-1]}\")\n",
    "        shover.append(format_hover(node_data[nid]))     # ← new rich hover text\n",
    "\n",
    "        if nid in highlight:                 colour = \"#FF9966\"   # orange\n",
    "        elif node_data[nid].get(\"__visited\"): colour = \"#32CD32\"   # lime\n",
    "        else:                                colour = \"#A0CBE8\"   # blue\n",
    "        scol.append(colour)\n",
    "\n",
    "    scene_trace = go.Scatter(\n",
    "        x=sx, y=sy, mode=\"markers+text\",\n",
    "        marker=dict(symbol=\"square\", size=22, color=scol),\n",
    "        text=stxt, textposition=\"top center\",\n",
    "        hovertext=shover, hoverinfo=\"text\",\n",
    "        name=\"Scenes\"\n",
    "    )\n",
    "\n",
    "    # ---- circles (choice mid-points) ----\n",
    "    cx, cy, chover = [], [], []\n",
    "    for u,v in G.edges:\n",
    "        (x0,y0), (x1,y1) = pos[u], pos[v]\n",
    "        cx.append((x0+x1)/2);  cy.append((y0+y1)/2)\n",
    "        chover.append(f\"{u} → {v}\")\n",
    "\n",
    "    choice_trace = go.Scatter(\n",
    "        x=cx, y=cy, mode=\"markers\",\n",
    "        marker=dict(symbol=\"circle\", size=15, color=\"#FFDAC1\"),\n",
    "        hovertext=chover, hoverinfo=\"text\",\n",
    "        name=\"Choices\"\n",
    "    )\n",
    "\n",
    "    # ---- arrows ----\n",
    "    arrows = []\n",
    "    for u,v in G.edges:\n",
    "        x0,y0 = pos[u];  x1,y1 = pos[v]\n",
    "        arrows.append(dict(\n",
    "            x=x1, y=y1, ax=x0, ay=y0,\n",
    "            xref=\"x\", yref=\"y\", axref=\"x\", ayref=\"y\",\n",
    "            showarrow=True, arrowhead=2, arrowwidth=1,\n",
    "            arrowsize=1, arrowcolor=\"black\", opacity=.5\n",
    "        ))\n",
    "\n",
    "    # ---- figure ----\n",
    "    fig = go.Figure([scene_trace, choice_trace])\n",
    "    # legend swatch for visited\n",
    "    fig.add_trace(go.Scatter(\n",
    "        x=[None], y=[None], mode=\"markers\",\n",
    "        marker=dict(symbol=\"square\", size=18, color=\"#32CD32\"),\n",
    "        showlegend=True, name=\"Visited\"\n",
    "    ))\n",
    "    fig.update_layout(\n",
    "        title=title, annotations=arrows,\n",
    "        xaxis=dict(visible=False), yaxis=dict(visible=False),\n",
    "        hovermode=\"closest\", plot_bgcolor=\"white\", paper_bgcolor=\"white\",\n",
    "        margin=dict(l=40,r=40,t=60,b=40)\n",
    "    )\n",
    "    fig.update_traces(cliponaxis=False)\n",
    "    return fig\n"
   ]
  },
  {
   "cell_type": "code",
   "execution_count": 14,
   "metadata": {},
   "outputs": [
    {
     "data": {
      "application/vnd.plotly.v1+json": {
       "config": {
        "plotlyServerURL": "https://plot.ly"
       },
       "data": [
        {
         "cliponaxis": false,
         "hoverinfo": "text",
         "hovertext": [
          "<b>Mountains</b> (night, windy)<br><i>The chill wind whips across the Old<br>Ford, biting through the thick wool of<br>your Ranger cloak. The Bruinen roars, a<br>frothy torrent reflecting the dying<br>embers of your campfire. You are Elara,<br>a newly appointed Ranger of the North,<br>and tonight, the silence of the<br>Eriadorian wilderness feels heavy,<br>pregnant with an unspoken dread. For<br>weeks, you've patrolled these lands, a<br>silent guardian against shadows creeping<br>out of the East. Tonight, however, the<br>shadows feel closer, more tangible. A<br>twig snaps nearby, not with the<br>skittishness of a wild creature, but<br>with the heavy, deliberate tread of…<br>someone. A figure stumbles out of the<br>darkness, barely upright. He's an Elf,<br>his silver hair matted with mud and<br>blood, his elven cloak torn to shreds.<br>His eyes, wide with terror, fix on you.<br>He rasps, a desperate whisper against<br>the wind, \"Shadows… whispering shadows…<br>Mirkwood… foul presence… the Weaver…\" He<br>coughs, a bloody froth bubbling on his<br>lips. He tries to speak again, but his<br>strength fails. His body slumps forward,<br>lifeless, at your feet. The only sound<br>now is the relentless roar of the<br>Bruinen, and the nagging feeling that a<br>darkness you thought long defeated is<br>stirring once more.</i><br><b>Characters:</b><br>• Mysterious Adversary (enemy, hostile, HP 70)",
          "<b>Misty Lake</b> (day, clear)<br><i>Examine the Elf's body for any clues.</i><br><b>Characters:</b><br>• Wandering Helper (ally, friendly, HP 60)<br><b>Outcome:</b> HP +1, XP +20",
          "<b>Ancient Ruins</b> (day, clear)<br><i>Immediately ride back to Ost Guruth to<br>report to Halbarad.</i><br><b>Characters:</b><br>• Local Inhabitant (neutral, cautious, HP 50)<br><b>Outcome:</b> HP -1, XP +50",
          "<b>Ship</b> (day, clear)<br><i>Search the Elf's belongings for a map or<br>message that might reveal his origins or<br>destination, hoping to find a clue to<br>the 'shadows that whisper'.</i><br><b>Characters:</b><br>• Local Guide (neutral, knowledgeable, HP 55)<br><b>Outcome:</b> HP +1, XP +30",
          "<b>Crystal Caves</b> (day, clear)<br><i>Examine the Elf's wounds for any<br>distinguishing marks or signs of the<br>creatures that attacked him, seeking to<br>identify the source of the threat he<br>described.</i><br><b>Characters:</b><br>• Wandering Helper (ally, friendly, HP 60)<br><b>Outcome:</b> HP -2, XP +10",
          "<b>Forgotten Sanctuary</b> (day, clear)<br><i>Ride with haste to Ost Guruth, pushing<br>your horse hard to deliver the urgent<br>news to Halbarad without delay.</i><br><b>Characters:</b><br>• Mysterious Adversary (enemy, hostile, HP 70)<br><b>Outcome:</b> XP +20",
          "<b>Forgotten Sanctuary</b> (day, clear)<br><i>Take a more cautious route to Ost<br>Guruth, prioritizing the well-being of<br>your horse and your own vigilance<br>against potential threats along the<br>road.</i><br><b>Characters:</b><br>• Local Guide (neutral, knowledgeable, HP 55)",
          "<b>Hidden Valley</b> (day, clear)<br><span style='color:#CC0000'><b>END NODE</b></span><br><i>Carefully sift through the Elf's worn<br>pouch, meticulously examining each item<br>for hidden compartments or markings,<br>hoping to find a concealed map or coded<br>message amidst the meager contents.</i><br><b>Characters:</b><br>• Wandering Helper (ally, friendly, HP 60)<br><b>Outcome:</b> XP +10",
          "<b>Ship</b> (day, clear)<br><span style='color:#CC0000'><b>END NODE</b></span><br><i>Quickly dissect the Elf's cloak and<br>tunic, tearing at seams and linings in a<br>desperate search for a hastily concealed<br>note or emblem that might expose his<br>affiliation or ultimate purpose in<br>fleeing Mirkwood.</i><br><b>Characters:</b><br>• Local Inhabitant (neutral, cautious, HP 50)<br><b>Outcome:</b> XP +50",
          "<b>Ship</b> (day, clear)<br><span style='color:#CC0000'><b>END NODE</b></span><br><i>Carefully cleanse the Elf's wounds with<br>water from your flask, searching for any<br>traces of venom, unnatural markings, or<br>lingering signs of the creatures that<br>attacked him, ignoring the urgency of<br>your mission for a moment to give<br>respect to the fallen.</i><br><b>Characters:</b><br>• Mysterious Adversary (enemy, hostile, HP 70)<br><b>Outcome:</b> XP +10",
          "<b>Forgotten Sanctuary</b> (day, clear)<br><span style='color:#CC0000'><b>END NODE</b></span><br><i>Roughly examine the Elf's clothing and<br>belongings for any clues, prioritizing<br>speed over delicacy in order to gather<br>any immediate information before the<br>scent of death attracts unwanted<br>attention.</i><br><b>Characters:</b><br>• Mysterious Adversary (enemy, hostile, HP 70)<br><b>Outcome:</b> XP +10",
          "<b>Ancient Ruins</b> (day, clear)<br><span style='color:#CC0000'><b>END NODE</b></span><br><i>Push onward relentlessly, ignoring the<br>signs of your horse's exhaustion to<br>reach Ost Guruth with utmost speed.</i><br><b>Characters:</b><br>• Wandering Helper (ally, friendly, HP 60)<br><b>Outcome:</b> XP +10",
          "<b>Forest</b> (day, clear)<br><span style='color:#CC0000'><b>END NODE</b></span><br><i>Veer off the main road, seeking a hidden<br>path through the Chetwood Forest, hoping<br>to avoid potential ambushes and conserve<br>your horse's strength.</i><br><b>Characters:</b><br>• Mysterious Adversary (enemy, hostile, HP 70)",
          "<b>Hidden Valley</b> (day, clear)<br><span style='color:#CC0000'><b>END NODE</b></span><br><i>Scout ahead on foot, leaving your horse<br>tethered securely, to identify any<br>potential ambushes or dangers along a<br>suspicious-looking section of the road.</i><br><b>Characters:</b><br>• Local Inhabitant (neutral, cautious, HP 50)<br><b>Outcome:</b> HP -1, XP +50",
          "<b>Forest</b> (day, clear)<br><span style='color:#CC0000'><b>END NODE</b></span><br><i>Maintain a steady pace, scanning the<br>surrounding woods while keeping a firm<br>grip on your bow, ready to loose an<br>arrow at any sign of movement.</i><br><b>Characters:</b><br>• Wandering Helper (ally, friendly, HP 60)<br><b>Outcome:</b> XP +10",
          "<b>Ancient Ruins</b> (day, clear)<br><span style='color:#CC0000'><b>END NODE</b></span><br><i>The Elf's pouch yielded nothing but<br>disappointment. Empty of maps or coded<br>messages, Elara only found a few dried<br>berries and a broken comb, offering no<br>clue to the Weaver's weakness. Despite<br>this setback, she pressed on, her<br>resolve hardened by the elf's sacrifice,<br>knowing that even without guidance, the<br>darkness of Mirkwood must be confronted.</i><br><b>Characters:</b><br>• Quiet Observer (neutral, observant, HP 55)<br><b>Outcome:</b> HP -10, XP +250, Inv ±1",
          "<b>Hidden Valley</b> (day, clear)<br><span style='color:#CC0000'><b>END NODE</b></span><br><i>Hidden beneath the pouch's lining, Elara<br>discovered a tightly folded piece of<br>parchment. It depicted a crude map,<br>marking a hidden grove where ancient,<br>uncorrupted herbs grew, capable of<br>weakening the Silken Weaver's magic.<br>Armed with this knowledge, Elara knew<br>she had a chance, a vital edge in the<br>coming confrontation, a glimmer of hope<br>in the suffocating darkness.</i><br><b>Characters:</b><br>• Local Guide (neutral, knowledgeable, HP 55)<br><b>Outcome:</b> HP -10, XP +250, Inv ±1",
          "<b>Ancient Ruins</b> (day, clear)<br><span style='color:#CC0000'><b>END NODE</b></span><br><i>Elara finds nothing of immediate<br>importance on the refugee's person, only<br>meticulously crafted elven tailoring and<br>the faint scent of Lothlórien.<br>Disappointed but resolute, she recalls<br>Halbarad's words about vigilance. The<br>lack of any identifying marks deepens<br>the mystery, suggesting a deliberate<br>attempt to conceal the elf's allegiance,<br>pushing Elara to press eastward towards<br>Mirkwood with a heightened sense of<br>urgency and suspicion, understanding the<br>darkness she faces may be more cunning<br>than previously imagined.</i><br><b>Characters:</b><br>• Mysterious Adversary (enemy, hostile, HP 70)<br><b>Outcome:</b> HP -30, XP +50",
          "<b>Forest</b> (day, clear)<br><span style='color:#CC0000'><b>END NODE</b></span><br><i>Hidden within a seam of the tunic, Elara<br>discovers a tiny, meticulously folded<br>parchment bearing a single, stylized<br>spider web. It's identical to the mark<br>she later finds at Amon Sûl. This<br>confirms the refugee was indeed fleeing<br>the Silken Weaver, but also suggests he<br>was carrying information for someone,<br>perhaps a rival faction within Mirkwood.<br>This discovery fuels Elara's<br>determination, now not only to confront<br>the growing darkness, but also to<br>unravel the web of alliances and<br>betrayals that are contributing to it,<br>turning her quest into a dangerous game<br>of political intrigue within a corrupted<br>forest.</i><br><b>Characters:</b><br>• Wandering Helper (ally, friendly, HP 60)<br><b>Outcome:</b> HP +25, XP +400, Inv ±1",
          "<b>Crystal Caves</b> (day, clear)<br><span style='color:#CC0000'><b>END NODE</b></span><br><i>Having offered the fallen Elf what<br>solace you could, you finally turned<br>your gaze east, the weight of his final<br>words heavy in your heart. The whispers<br>of shadow grew louder, but so did your<br>resolve. Though delayed, your respect<br>for the fallen would fuel your<br>determination to confront the evil<br>brewing within Mirkwood, ensuring his<br>sacrifice wouldn't be in vain.</i><br><b>Characters:</b><br>• Mysterious Adversary (enemy, hostile, HP 70)<br>• Wandering Helper (ally, friendly, HP 60)<br><b>Outcome:</b> HP -30, XP +50",
          "<b>Misty Lake</b> (day, clear)<br><span style='color:#CC0000'><b>END NODE</b></span><br><i>The cleansing ritual complete, a faint,<br>shimmering light briefly emanated from<br>the Elf's wound before fading. It was<br>subtle, almost imperceptible, but you<br>felt a surge of energy pass into you, a<br>whisper of gratitude from a spirit now<br>at peace. Strengthened by this<br>unexpected blessing, you steel yourself<br>and head towards Mirkwood, a flicker of<br>hope ignited within the encroaching<br>darkness.</i><br><b>Characters:</b><br>• Quiet Observer (neutral, observant, HP 55)<br><b>Outcome:</b> HP -10, XP +250, Inv ±1",
          "<b>Crystal Caves</b> (day, clear)<br><span style='color:#CC0000'><b>END NODE</b></span><br><i>Rifling through the Elf's meager<br>possessions reveals little of immediate<br>use – a worn map depicting a small<br>section of the eaves of Mirkwood, some<br>dried rations, and a crudely fashioned<br>spider-shaped amulet. The amulet,<br>though, sends a chill down Elara's<br>spine, a palpable sense of darkness<br>clinging to it. This confirms the<br>refugee's fears and steels Elara's<br>resolve for the journey ahead, knowing a<br>corrupting influence festers within the<br>Greenwood.</i><br><b>Characters:</b><br>• Mysterious Adversary (enemy, hostile, HP 70)<br><b>Outcome:</b> HP -30, XP +50",
          "<b>Forest</b> (day, clear)<br><span style='color:#CC0000'><b>END NODE</b></span><br><i>A hasty search unearths a small, tightly<br>sealed vial containing a viscous, black<br>liquid. An acrid smell emanates from it,<br>vaguely reminiscent of decaying leaves<br>and spider venom. This could be the<br>source of the whispered corruption, a<br>key to the Silken Weaver's power. But as<br>Elara pockets the vial, a distant howl<br>echoes through the trees, signaling that<br>their grim task has attracted unwelcome<br>attention, forcing a hasty departure.</i><br><b>Characters:</b><br>• Wandering Helper (ally, friendly, HP 60)<br><b>Outcome:</b> HP +25, XP +400, Inv ±1",
          "<b>Ancient Ruins</b> (day, clear)<br><span style='color:#CC0000'><b>END NODE</b></span><br><i>Elara's relentless pace pushes her loyal<br>steed beyond its limits. Reaching Ost<br>Guruth, horse collapsing, she delivers<br>her urgent report, the fate of the<br>region hanging in the balance; the<br>Rangers muster, alerted in time.<br>However, the victory is pyrrhic –<br>Elara's trusted companion succumbs to<br>exhaustion, leaving her with a heavy<br>heart, a constant reminder of the cost<br>of her unwavering resolve, and a silent<br>vow never to sacrifice loyalty again.</i><br><b>Characters:</b><br>• Wandering Helper (ally, friendly, HP 60)<br><b>Outcome:</b> HP +25, XP +400, Inv ±1",
          "<b>Misty Lake</b> (day, clear)<br><span style='color:#CC0000'><b>END NODE</b></span><br><i>Ignoring the growing signs of her<br>horse's distress, Elara presses onward,<br>spurred by the urgency of her mission.<br>Nearing Ost Guruth, the exhausted horse<br>stumbles, throwing Elara and breaking a<br>leg. Though she crawls the remaining<br>distance to Ost Guruth, delivering her<br>warning, the delay proves critical; the<br>enemy advances further, leaving<br>settlements vulnerable, and staining her<br>victory with the blood of innocents and<br>the sting of regret.</i><br><b>Characters:</b><br>• Mysterious Adversary (enemy, hostile, HP 70)<br>• Local Inhabitant (neutral, cautious, HP 50)<br><b>Outcome:</b> XP +200",
          "<b>Hidden Valley</b> (day, clear)<br><span style='color:#CC0000'><b>END NODE</b></span><br><i>The hidden path through the Chetwood<br>proved both a blessing and a curse.<br>While the road was untroubled by Orcs,<br>the dense thicket tested both Elara and<br>her horse, slowing their progress<br>considerably and leaving them both<br>exhausted upon reaching the borders of<br>Mirkwood. The delay allowed the Silken<br>Weaver to further entrench her power,<br>making the final confrontation even more<br>perilous and resulting in the 'Weakened<br>Shadow' ending, where the Weaver escapes<br>to plague the land another day.</i><br><b>Characters:</b><br>• Wandering Helper (ally, friendly, HP 60)<br><b>Outcome:</b> HP +25, XP +400, Inv ±1",
          "<b>Hidden Valley</b> (day, clear)<br><span style='color:#CC0000'><b>END NODE</b></span><br><i>Choosing the secretive route through the<br>Chetwood proved to be a stroke of luck.<br>Unbeknownst to Elara, the Weaver's<br>forces were focused on the main roads,<br>anticipating her arrival. The quiet<br>passage allowed her to reach Mirkwood<br>undetected, giving her the element of<br>surprise in infiltrating the Weaver's<br>lair. This advantage, combined with a<br>daring assault on the source of the<br>Weaver's power, led to the 'Weaver<br>Vanquished' ending and the definitive<br>end to the corrupting influence.</i><br><b>Characters:</b><br>• Local Inhabitant (neutral, cautious, HP 50)<br><b>Outcome:</b> XP +200",
          "<b>Hidden Valley</b> (day, clear)<br><span style='color:#CC0000'><b>END NODE</b></span><br><i>The road ahead proved treacherous.<br>Hidden in the dense undergrowth, a band<br>of Orcs lay in wait, their crude weapons<br>glinting in the dim light. Elara,<br>undetected, noted their position and<br>numbers, carefully retreating to her<br>horse. She returned to the Wood Elves,<br>relaying the Orc's position and<br>bolstering her alliance before leading a<br>successful ambush against the<br>unsuspecting enemies.</i><br><b>Characters:</b><br>• Local Guide (neutral, knowledgeable, HP 55)<br><b>Outcome:</b> HP -10, XP +250, Inv ±1",
          "<b>Forgotten Sanctuary</b> (day, clear)<br><span style='color:#CC0000'><b>END NODE</b></span><br><i>Despite her caution, Elara stumbled into<br>a cleverly concealed snare. Suspended<br>upside down, she watched as grotesque<br>spiders, unnaturally large and venomous,<br>descended from the canopy. A desperate<br>struggle ensued, resulting in a severe<br>wound and a harrowing escape back to her<br>horse. Though alive, she returned to the<br>Rangers a changed woman, forever scarred<br>by the horrors she'd witnessed and<br>questioning her ability to overcome the<br>challenges ahead.</i><br><b>Characters:</b><br>• Wandering Helper (ally, friendly, HP 60)<br><b>Outcome:</b> HP +25, XP +400, Inv ±1",
          "<b>Misty Lake</b> (day, clear)<br><span style='color:#CC0000'><b>END NODE</b></span><br><i>Though weakened and her artifact<br>shattered, the Silken Weaver's venomous<br>influence lingered. Elara, hailed for<br>her courage, returned to the Rangers,<br>but the memory of the Weaver haunted<br>her. Mirkwood remained a blighted land,<br>a constant reminder of the shadows<br>lurking just beyond the borders, and the<br>vigilance required to keep them at bay<br>fell heavily upon the shoulders of the<br>Rangers of the North.</i><br><b>Characters:</b><br>• Wandering Helper (ally, friendly, HP 60)<br><b>Outcome:</b> HP +25, XP +400, Inv ±1",
          "<b>Crystal Caves</b> (day, clear)<br><span style='color:#CC0000'><b>END NODE</b></span><br><i>The Weaver's final scream echoed through<br>the ancient ruins as Elara struck the<br>killing blow. With her demise, the<br>immediate corruption receded, but<br>Mirkwood was deeply scarred. Elara,<br>forever changed by her ordeal, knew that<br>the threat of darkness would always<br>linger, and that the vigilance of the<br>Rangers was all that stood between<br>Middle-earth and the encroaching<br>shadows, a burden she now carried alone.</i><br><b>Characters:</b><br>• Mysterious Adversary (enemy, hostile, HP 70)<br><b>Outcome:</b> HP -30, XP +50"
         ],
         "marker": {
          "color": [
           "#FF9966",
           "#A0CBE8",
           "#A0CBE8",
           "#A0CBE8",
           "#A0CBE8",
           "#A0CBE8",
           "#A0CBE8",
           "#A0CBE8",
           "#A0CBE8",
           "#A0CBE8",
           "#A0CBE8",
           "#A0CBE8",
           "#A0CBE8",
           "#A0CBE8",
           "#A0CBE8",
           "#A0CBE8",
           "#A0CBE8",
           "#A0CBE8",
           "#A0CBE8",
           "#A0CBE8",
           "#A0CBE8",
           "#A0CBE8",
           "#A0CBE8",
           "#A0CBE8",
           "#A0CBE8",
           "#A0CBE8",
           "#A0CBE8",
           "#A0CBE8",
           "#A0CBE8",
           "#A0CBE8",
           "#A0CBE8"
          ],
          "size": 22,
          "symbol": "square"
         },
         "mode": "markers+text",
         "name": "Scenes",
         "text": [
          "ID: 0",
          "ID: 1",
          "ID: 2",
          "ID: 1",
          "ID: 2",
          "ID: 1",
          "ID: 2",
          "ID: 1",
          "ID: 2",
          "ID: 1",
          "ID: 2",
          "ID: 1",
          "ID: 2",
          "ID: 1",
          "ID: 2",
          "ID: 1",
          "ID: 2",
          "ID: 1",
          "ID: 2",
          "ID: 1",
          "ID: 2",
          "ID: 1",
          "ID: 2",
          "ID: 1",
          "ID: 2",
          "ID: 1",
          "ID: 2",
          "ID: 1",
          "ID: 2",
          "ID: 1",
          "ID: 2"
         ],
         "textposition": "top center",
         "type": "scatter",
         "x": [
          0,
          -0.7,
          0.7,
          -2.0999999999999996,
          -0.7,
          0.7,
          2.0999999999999996,
          -4.8999999999999995,
          -3.5,
          -2.0999999999999996,
          -0.7,
          0.7,
          2.0999999999999996,
          3.5,
          4.8999999999999995,
          -10.5,
          -9.1,
          -7.699999999999999,
          -6.3,
          -4.8999999999999995,
          -3.5,
          -2.0999999999999996,
          -0.7,
          0.7,
          2.0999999999999996,
          3.5,
          4.8999999999999995,
          6.3,
          7.699999999999999,
          9.1,
          10.5
         ],
         "y": [
          0,
          -2,
          -2,
          -4,
          -4,
          -4,
          -4,
          -6,
          -6,
          -6,
          -6,
          -6,
          -6,
          -6,
          -6,
          -8,
          -8,
          -8,
          -8,
          -8,
          -8,
          -8,
          -8,
          -8,
          -8,
          -8,
          -8,
          -8,
          -8,
          -8,
          -8
         ]
        },
        {
         "cliponaxis": false,
         "hoverinfo": "text",
         "hovertext": [
          "node_0 → node_0_1",
          "node_0 → node_0_2",
          "node_0_1 → node_0_1_1",
          "node_0_1 → node_0_1_2",
          "node_0_2 → node_0_2_1",
          "node_0_2 → node_0_2_2",
          "node_0_1_1 → node_0_1_1_1",
          "node_0_1_1 → node_0_1_1_2",
          "node_0_1_2 → node_0_1_2_1",
          "node_0_1_2 → node_0_1_2_2",
          "node_0_2_1 → node_0_2_1_1",
          "node_0_2_1 → node_0_2_1_2",
          "node_0_2_2 → node_0_2_2_1",
          "node_0_2_2 → node_0_2_2_2",
          "node_0_1_1_1 → node_0_1_1_1_1",
          "node_0_1_1_1 → node_0_1_1_1_2",
          "node_0_1_1_2 → node_0_1_1_2_1",
          "node_0_1_1_2 → node_0_1_1_2_2",
          "node_0_1_2_1 → node_0_1_2_1_1",
          "node_0_1_2_1 → node_0_1_2_1_2",
          "node_0_1_2_2 → node_0_1_2_2_1",
          "node_0_1_2_2 → node_0_1_2_2_2",
          "node_0_2_1_1 → node_0_2_1_1_1",
          "node_0_2_1_1 → node_0_2_1_1_2",
          "node_0_2_1_2 → node_0_2_1_2_1",
          "node_0_2_1_2 → node_0_2_1_2_2",
          "node_0_2_2_1 → node_0_2_2_1_1",
          "node_0_2_2_1 → node_0_2_2_1_2",
          "node_0_2_2_2 → node_0_2_2_2_1",
          "node_0_2_2_2 → node_0_2_2_2_2"
         ],
         "marker": {
          "color": "#FFDAC1",
          "size": 15,
          "symbol": "circle"
         },
         "mode": "markers",
         "name": "Choices",
         "type": "scatter",
         "x": [
          -0.35,
          0.35,
          -1.4,
          -0.7,
          0.7,
          1.4,
          -3.4999999999999996,
          -2.8,
          -1.4,
          -0.7,
          0.7,
          1.4,
          2.8,
          3.4999999999999996,
          -7.699999999999999,
          -7,
          -5.6,
          -4.9,
          -3.4999999999999996,
          -2.8,
          -1.4,
          -0.7,
          0.7,
          1.4,
          2.8,
          3.4999999999999996,
          4.9,
          5.6,
          7,
          7.699999999999999
         ],
         "y": [
          -1,
          -1,
          -3,
          -3,
          -3,
          -3,
          -5,
          -5,
          -5,
          -5,
          -5,
          -5,
          -5,
          -5,
          -7,
          -7,
          -7,
          -7,
          -7,
          -7,
          -7,
          -7,
          -7,
          -7,
          -7,
          -7,
          -7,
          -7,
          -7,
          -7
         ]
        },
        {
         "cliponaxis": false,
         "marker": {
          "color": "#32CD32",
          "size": 18,
          "symbol": "square"
         },
         "mode": "markers",
         "name": "Visited",
         "showlegend": true,
         "type": "scatter",
         "x": [
          null
         ],
         "y": [
          null
         ]
        }
       ],
       "layout": {
        "annotations": [
         {
          "arrowcolor": "black",
          "arrowhead": 2,
          "arrowsize": 1,
          "arrowwidth": 1,
          "ax": 0,
          "axref": "x",
          "ay": 0,
          "ayref": "y",
          "opacity": 0.5,
          "showarrow": true,
          "x": -0.7,
          "xref": "x",
          "y": -2,
          "yref": "y"
         },
         {
          "arrowcolor": "black",
          "arrowhead": 2,
          "arrowsize": 1,
          "arrowwidth": 1,
          "ax": 0,
          "axref": "x",
          "ay": 0,
          "ayref": "y",
          "opacity": 0.5,
          "showarrow": true,
          "x": 0.7,
          "xref": "x",
          "y": -2,
          "yref": "y"
         },
         {
          "arrowcolor": "black",
          "arrowhead": 2,
          "arrowsize": 1,
          "arrowwidth": 1,
          "ax": -0.7,
          "axref": "x",
          "ay": -2,
          "ayref": "y",
          "opacity": 0.5,
          "showarrow": true,
          "x": -2.0999999999999996,
          "xref": "x",
          "y": -4,
          "yref": "y"
         },
         {
          "arrowcolor": "black",
          "arrowhead": 2,
          "arrowsize": 1,
          "arrowwidth": 1,
          "ax": -0.7,
          "axref": "x",
          "ay": -2,
          "ayref": "y",
          "opacity": 0.5,
          "showarrow": true,
          "x": -0.7,
          "xref": "x",
          "y": -4,
          "yref": "y"
         },
         {
          "arrowcolor": "black",
          "arrowhead": 2,
          "arrowsize": 1,
          "arrowwidth": 1,
          "ax": 0.7,
          "axref": "x",
          "ay": -2,
          "ayref": "y",
          "opacity": 0.5,
          "showarrow": true,
          "x": 0.7,
          "xref": "x",
          "y": -4,
          "yref": "y"
         },
         {
          "arrowcolor": "black",
          "arrowhead": 2,
          "arrowsize": 1,
          "arrowwidth": 1,
          "ax": 0.7,
          "axref": "x",
          "ay": -2,
          "ayref": "y",
          "opacity": 0.5,
          "showarrow": true,
          "x": 2.0999999999999996,
          "xref": "x",
          "y": -4,
          "yref": "y"
         },
         {
          "arrowcolor": "black",
          "arrowhead": 2,
          "arrowsize": 1,
          "arrowwidth": 1,
          "ax": -2.0999999999999996,
          "axref": "x",
          "ay": -4,
          "ayref": "y",
          "opacity": 0.5,
          "showarrow": true,
          "x": -4.8999999999999995,
          "xref": "x",
          "y": -6,
          "yref": "y"
         },
         {
          "arrowcolor": "black",
          "arrowhead": 2,
          "arrowsize": 1,
          "arrowwidth": 1,
          "ax": -2.0999999999999996,
          "axref": "x",
          "ay": -4,
          "ayref": "y",
          "opacity": 0.5,
          "showarrow": true,
          "x": -3.5,
          "xref": "x",
          "y": -6,
          "yref": "y"
         },
         {
          "arrowcolor": "black",
          "arrowhead": 2,
          "arrowsize": 1,
          "arrowwidth": 1,
          "ax": -0.7,
          "axref": "x",
          "ay": -4,
          "ayref": "y",
          "opacity": 0.5,
          "showarrow": true,
          "x": -2.0999999999999996,
          "xref": "x",
          "y": -6,
          "yref": "y"
         },
         {
          "arrowcolor": "black",
          "arrowhead": 2,
          "arrowsize": 1,
          "arrowwidth": 1,
          "ax": -0.7,
          "axref": "x",
          "ay": -4,
          "ayref": "y",
          "opacity": 0.5,
          "showarrow": true,
          "x": -0.7,
          "xref": "x",
          "y": -6,
          "yref": "y"
         },
         {
          "arrowcolor": "black",
          "arrowhead": 2,
          "arrowsize": 1,
          "arrowwidth": 1,
          "ax": 0.7,
          "axref": "x",
          "ay": -4,
          "ayref": "y",
          "opacity": 0.5,
          "showarrow": true,
          "x": 0.7,
          "xref": "x",
          "y": -6,
          "yref": "y"
         },
         {
          "arrowcolor": "black",
          "arrowhead": 2,
          "arrowsize": 1,
          "arrowwidth": 1,
          "ax": 0.7,
          "axref": "x",
          "ay": -4,
          "ayref": "y",
          "opacity": 0.5,
          "showarrow": true,
          "x": 2.0999999999999996,
          "xref": "x",
          "y": -6,
          "yref": "y"
         },
         {
          "arrowcolor": "black",
          "arrowhead": 2,
          "arrowsize": 1,
          "arrowwidth": 1,
          "ax": 2.0999999999999996,
          "axref": "x",
          "ay": -4,
          "ayref": "y",
          "opacity": 0.5,
          "showarrow": true,
          "x": 3.5,
          "xref": "x",
          "y": -6,
          "yref": "y"
         },
         {
          "arrowcolor": "black",
          "arrowhead": 2,
          "arrowsize": 1,
          "arrowwidth": 1,
          "ax": 2.0999999999999996,
          "axref": "x",
          "ay": -4,
          "ayref": "y",
          "opacity": 0.5,
          "showarrow": true,
          "x": 4.8999999999999995,
          "xref": "x",
          "y": -6,
          "yref": "y"
         },
         {
          "arrowcolor": "black",
          "arrowhead": 2,
          "arrowsize": 1,
          "arrowwidth": 1,
          "ax": -4.8999999999999995,
          "axref": "x",
          "ay": -6,
          "ayref": "y",
          "opacity": 0.5,
          "showarrow": true,
          "x": -10.5,
          "xref": "x",
          "y": -8,
          "yref": "y"
         },
         {
          "arrowcolor": "black",
          "arrowhead": 2,
          "arrowsize": 1,
          "arrowwidth": 1,
          "ax": -4.8999999999999995,
          "axref": "x",
          "ay": -6,
          "ayref": "y",
          "opacity": 0.5,
          "showarrow": true,
          "x": -9.1,
          "xref": "x",
          "y": -8,
          "yref": "y"
         },
         {
          "arrowcolor": "black",
          "arrowhead": 2,
          "arrowsize": 1,
          "arrowwidth": 1,
          "ax": -3.5,
          "axref": "x",
          "ay": -6,
          "ayref": "y",
          "opacity": 0.5,
          "showarrow": true,
          "x": -7.699999999999999,
          "xref": "x",
          "y": -8,
          "yref": "y"
         },
         {
          "arrowcolor": "black",
          "arrowhead": 2,
          "arrowsize": 1,
          "arrowwidth": 1,
          "ax": -3.5,
          "axref": "x",
          "ay": -6,
          "ayref": "y",
          "opacity": 0.5,
          "showarrow": true,
          "x": -6.3,
          "xref": "x",
          "y": -8,
          "yref": "y"
         },
         {
          "arrowcolor": "black",
          "arrowhead": 2,
          "arrowsize": 1,
          "arrowwidth": 1,
          "ax": -2.0999999999999996,
          "axref": "x",
          "ay": -6,
          "ayref": "y",
          "opacity": 0.5,
          "showarrow": true,
          "x": -4.8999999999999995,
          "xref": "x",
          "y": -8,
          "yref": "y"
         },
         {
          "arrowcolor": "black",
          "arrowhead": 2,
          "arrowsize": 1,
          "arrowwidth": 1,
          "ax": -2.0999999999999996,
          "axref": "x",
          "ay": -6,
          "ayref": "y",
          "opacity": 0.5,
          "showarrow": true,
          "x": -3.5,
          "xref": "x",
          "y": -8,
          "yref": "y"
         },
         {
          "arrowcolor": "black",
          "arrowhead": 2,
          "arrowsize": 1,
          "arrowwidth": 1,
          "ax": -0.7,
          "axref": "x",
          "ay": -6,
          "ayref": "y",
          "opacity": 0.5,
          "showarrow": true,
          "x": -2.0999999999999996,
          "xref": "x",
          "y": -8,
          "yref": "y"
         },
         {
          "arrowcolor": "black",
          "arrowhead": 2,
          "arrowsize": 1,
          "arrowwidth": 1,
          "ax": -0.7,
          "axref": "x",
          "ay": -6,
          "ayref": "y",
          "opacity": 0.5,
          "showarrow": true,
          "x": -0.7,
          "xref": "x",
          "y": -8,
          "yref": "y"
         },
         {
          "arrowcolor": "black",
          "arrowhead": 2,
          "arrowsize": 1,
          "arrowwidth": 1,
          "ax": 0.7,
          "axref": "x",
          "ay": -6,
          "ayref": "y",
          "opacity": 0.5,
          "showarrow": true,
          "x": 0.7,
          "xref": "x",
          "y": -8,
          "yref": "y"
         },
         {
          "arrowcolor": "black",
          "arrowhead": 2,
          "arrowsize": 1,
          "arrowwidth": 1,
          "ax": 0.7,
          "axref": "x",
          "ay": -6,
          "ayref": "y",
          "opacity": 0.5,
          "showarrow": true,
          "x": 2.0999999999999996,
          "xref": "x",
          "y": -8,
          "yref": "y"
         },
         {
          "arrowcolor": "black",
          "arrowhead": 2,
          "arrowsize": 1,
          "arrowwidth": 1,
          "ax": 2.0999999999999996,
          "axref": "x",
          "ay": -6,
          "ayref": "y",
          "opacity": 0.5,
          "showarrow": true,
          "x": 3.5,
          "xref": "x",
          "y": -8,
          "yref": "y"
         },
         {
          "arrowcolor": "black",
          "arrowhead": 2,
          "arrowsize": 1,
          "arrowwidth": 1,
          "ax": 2.0999999999999996,
          "axref": "x",
          "ay": -6,
          "ayref": "y",
          "opacity": 0.5,
          "showarrow": true,
          "x": 4.8999999999999995,
          "xref": "x",
          "y": -8,
          "yref": "y"
         },
         {
          "arrowcolor": "black",
          "arrowhead": 2,
          "arrowsize": 1,
          "arrowwidth": 1,
          "ax": 3.5,
          "axref": "x",
          "ay": -6,
          "ayref": "y",
          "opacity": 0.5,
          "showarrow": true,
          "x": 6.3,
          "xref": "x",
          "y": -8,
          "yref": "y"
         },
         {
          "arrowcolor": "black",
          "arrowhead": 2,
          "arrowsize": 1,
          "arrowwidth": 1,
          "ax": 3.5,
          "axref": "x",
          "ay": -6,
          "ayref": "y",
          "opacity": 0.5,
          "showarrow": true,
          "x": 7.699999999999999,
          "xref": "x",
          "y": -8,
          "yref": "y"
         },
         {
          "arrowcolor": "black",
          "arrowhead": 2,
          "arrowsize": 1,
          "arrowwidth": 1,
          "ax": 4.8999999999999995,
          "axref": "x",
          "ay": -6,
          "ayref": "y",
          "opacity": 0.5,
          "showarrow": true,
          "x": 9.1,
          "xref": "x",
          "y": -8,
          "yref": "y"
         },
         {
          "arrowcolor": "black",
          "arrowhead": 2,
          "arrowsize": 1,
          "arrowwidth": 1,
          "ax": 4.8999999999999995,
          "axref": "x",
          "ay": -6,
          "ayref": "y",
          "opacity": 0.5,
          "showarrow": true,
          "x": 10.5,
          "xref": "x",
          "y": -8,
          "yref": "y"
         }
        ],
        "height": 1000,
        "hovermode": "closest",
        "margin": {
         "b": 50,
         "l": 50,
         "r": 50,
         "t": 50
        },
        "paper_bgcolor": "white",
        "plot_bgcolor": "white",
        "template": {
         "data": {
          "bar": [
           {
            "error_x": {
             "color": "#2a3f5f"
            },
            "error_y": {
             "color": "#2a3f5f"
            },
            "marker": {
             "line": {
              "color": "#E5ECF6",
              "width": 0.5
             },
             "pattern": {
              "fillmode": "overlay",
              "size": 10,
              "solidity": 0.2
             }
            },
            "type": "bar"
           }
          ],
          "barpolar": [
           {
            "marker": {
             "line": {
              "color": "#E5ECF6",
              "width": 0.5
             },
             "pattern": {
              "fillmode": "overlay",
              "size": 10,
              "solidity": 0.2
             }
            },
            "type": "barpolar"
           }
          ],
          "carpet": [
           {
            "aaxis": {
             "endlinecolor": "#2a3f5f",
             "gridcolor": "white",
             "linecolor": "white",
             "minorgridcolor": "white",
             "startlinecolor": "#2a3f5f"
            },
            "baxis": {
             "endlinecolor": "#2a3f5f",
             "gridcolor": "white",
             "linecolor": "white",
             "minorgridcolor": "white",
             "startlinecolor": "#2a3f5f"
            },
            "type": "carpet"
           }
          ],
          "choropleth": [
           {
            "colorbar": {
             "outlinewidth": 0,
             "ticks": ""
            },
            "type": "choropleth"
           }
          ],
          "contour": [
           {
            "colorbar": {
             "outlinewidth": 0,
             "ticks": ""
            },
            "colorscale": [
             [
              0,
              "#0d0887"
             ],
             [
              0.1111111111111111,
              "#46039f"
             ],
             [
              0.2222222222222222,
              "#7201a8"
             ],
             [
              0.3333333333333333,
              "#9c179e"
             ],
             [
              0.4444444444444444,
              "#bd3786"
             ],
             [
              0.5555555555555556,
              "#d8576b"
             ],
             [
              0.6666666666666666,
              "#ed7953"
             ],
             [
              0.7777777777777778,
              "#fb9f3a"
             ],
             [
              0.8888888888888888,
              "#fdca26"
             ],
             [
              1,
              "#f0f921"
             ]
            ],
            "type": "contour"
           }
          ],
          "contourcarpet": [
           {
            "colorbar": {
             "outlinewidth": 0,
             "ticks": ""
            },
            "type": "contourcarpet"
           }
          ],
          "heatmap": [
           {
            "colorbar": {
             "outlinewidth": 0,
             "ticks": ""
            },
            "colorscale": [
             [
              0,
              "#0d0887"
             ],
             [
              0.1111111111111111,
              "#46039f"
             ],
             [
              0.2222222222222222,
              "#7201a8"
             ],
             [
              0.3333333333333333,
              "#9c179e"
             ],
             [
              0.4444444444444444,
              "#bd3786"
             ],
             [
              0.5555555555555556,
              "#d8576b"
             ],
             [
              0.6666666666666666,
              "#ed7953"
             ],
             [
              0.7777777777777778,
              "#fb9f3a"
             ],
             [
              0.8888888888888888,
              "#fdca26"
             ],
             [
              1,
              "#f0f921"
             ]
            ],
            "type": "heatmap"
           }
          ],
          "histogram": [
           {
            "marker": {
             "pattern": {
              "fillmode": "overlay",
              "size": 10,
              "solidity": 0.2
             }
            },
            "type": "histogram"
           }
          ],
          "histogram2d": [
           {
            "colorbar": {
             "outlinewidth": 0,
             "ticks": ""
            },
            "colorscale": [
             [
              0,
              "#0d0887"
             ],
             [
              0.1111111111111111,
              "#46039f"
             ],
             [
              0.2222222222222222,
              "#7201a8"
             ],
             [
              0.3333333333333333,
              "#9c179e"
             ],
             [
              0.4444444444444444,
              "#bd3786"
             ],
             [
              0.5555555555555556,
              "#d8576b"
             ],
             [
              0.6666666666666666,
              "#ed7953"
             ],
             [
              0.7777777777777778,
              "#fb9f3a"
             ],
             [
              0.8888888888888888,
              "#fdca26"
             ],
             [
              1,
              "#f0f921"
             ]
            ],
            "type": "histogram2d"
           }
          ],
          "histogram2dcontour": [
           {
            "colorbar": {
             "outlinewidth": 0,
             "ticks": ""
            },
            "colorscale": [
             [
              0,
              "#0d0887"
             ],
             [
              0.1111111111111111,
              "#46039f"
             ],
             [
              0.2222222222222222,
              "#7201a8"
             ],
             [
              0.3333333333333333,
              "#9c179e"
             ],
             [
              0.4444444444444444,
              "#bd3786"
             ],
             [
              0.5555555555555556,
              "#d8576b"
             ],
             [
              0.6666666666666666,
              "#ed7953"
             ],
             [
              0.7777777777777778,
              "#fb9f3a"
             ],
             [
              0.8888888888888888,
              "#fdca26"
             ],
             [
              1,
              "#f0f921"
             ]
            ],
            "type": "histogram2dcontour"
           }
          ],
          "mesh3d": [
           {
            "colorbar": {
             "outlinewidth": 0,
             "ticks": ""
            },
            "type": "mesh3d"
           }
          ],
          "parcoords": [
           {
            "line": {
             "colorbar": {
              "outlinewidth": 0,
              "ticks": ""
             }
            },
            "type": "parcoords"
           }
          ],
          "pie": [
           {
            "automargin": true,
            "type": "pie"
           }
          ],
          "scatter": [
           {
            "fillpattern": {
             "fillmode": "overlay",
             "size": 10,
             "solidity": 0.2
            },
            "type": "scatter"
           }
          ],
          "scatter3d": [
           {
            "line": {
             "colorbar": {
              "outlinewidth": 0,
              "ticks": ""
             }
            },
            "marker": {
             "colorbar": {
              "outlinewidth": 0,
              "ticks": ""
             }
            },
            "type": "scatter3d"
           }
          ],
          "scattercarpet": [
           {
            "marker": {
             "colorbar": {
              "outlinewidth": 0,
              "ticks": ""
             }
            },
            "type": "scattercarpet"
           }
          ],
          "scattergeo": [
           {
            "marker": {
             "colorbar": {
              "outlinewidth": 0,
              "ticks": ""
             }
            },
            "type": "scattergeo"
           }
          ],
          "scattergl": [
           {
            "marker": {
             "colorbar": {
              "outlinewidth": 0,
              "ticks": ""
             }
            },
            "type": "scattergl"
           }
          ],
          "scattermap": [
           {
            "marker": {
             "colorbar": {
              "outlinewidth": 0,
              "ticks": ""
             }
            },
            "type": "scattermap"
           }
          ],
          "scattermapbox": [
           {
            "marker": {
             "colorbar": {
              "outlinewidth": 0,
              "ticks": ""
             }
            },
            "type": "scattermapbox"
           }
          ],
          "scatterpolar": [
           {
            "marker": {
             "colorbar": {
              "outlinewidth": 0,
              "ticks": ""
             }
            },
            "type": "scatterpolar"
           }
          ],
          "scatterpolargl": [
           {
            "marker": {
             "colorbar": {
              "outlinewidth": 0,
              "ticks": ""
             }
            },
            "type": "scatterpolargl"
           }
          ],
          "scatterternary": [
           {
            "marker": {
             "colorbar": {
              "outlinewidth": 0,
              "ticks": ""
             }
            },
            "type": "scatterternary"
           }
          ],
          "surface": [
           {
            "colorbar": {
             "outlinewidth": 0,
             "ticks": ""
            },
            "colorscale": [
             [
              0,
              "#0d0887"
             ],
             [
              0.1111111111111111,
              "#46039f"
             ],
             [
              0.2222222222222222,
              "#7201a8"
             ],
             [
              0.3333333333333333,
              "#9c179e"
             ],
             [
              0.4444444444444444,
              "#bd3786"
             ],
             [
              0.5555555555555556,
              "#d8576b"
             ],
             [
              0.6666666666666666,
              "#ed7953"
             ],
             [
              0.7777777777777778,
              "#fb9f3a"
             ],
             [
              0.8888888888888888,
              "#fdca26"
             ],
             [
              1,
              "#f0f921"
             ]
            ],
            "type": "surface"
           }
          ],
          "table": [
           {
            "cells": {
             "fill": {
              "color": "#EBF0F8"
             },
             "line": {
              "color": "white"
             }
            },
            "header": {
             "fill": {
              "color": "#C8D4E3"
             },
             "line": {
              "color": "white"
             }
            },
            "type": "table"
           }
          ]
         },
         "layout": {
          "annotationdefaults": {
           "arrowcolor": "#2a3f5f",
           "arrowhead": 0,
           "arrowwidth": 1
          },
          "autotypenumbers": "strict",
          "coloraxis": {
           "colorbar": {
            "outlinewidth": 0,
            "ticks": ""
           }
          },
          "colorscale": {
           "diverging": [
            [
             0,
             "#8e0152"
            ],
            [
             0.1,
             "#c51b7d"
            ],
            [
             0.2,
             "#de77ae"
            ],
            [
             0.3,
             "#f1b6da"
            ],
            [
             0.4,
             "#fde0ef"
            ],
            [
             0.5,
             "#f7f7f7"
            ],
            [
             0.6,
             "#e6f5d0"
            ],
            [
             0.7,
             "#b8e186"
            ],
            [
             0.8,
             "#7fbc41"
            ],
            [
             0.9,
             "#4d9221"
            ],
            [
             1,
             "#276419"
            ]
           ],
           "sequential": [
            [
             0,
             "#0d0887"
            ],
            [
             0.1111111111111111,
             "#46039f"
            ],
            [
             0.2222222222222222,
             "#7201a8"
            ],
            [
             0.3333333333333333,
             "#9c179e"
            ],
            [
             0.4444444444444444,
             "#bd3786"
            ],
            [
             0.5555555555555556,
             "#d8576b"
            ],
            [
             0.6666666666666666,
             "#ed7953"
            ],
            [
             0.7777777777777778,
             "#fb9f3a"
            ],
            [
             0.8888888888888888,
             "#fdca26"
            ],
            [
             1,
             "#f0f921"
            ]
           ],
           "sequentialminus": [
            [
             0,
             "#0d0887"
            ],
            [
             0.1111111111111111,
             "#46039f"
            ],
            [
             0.2222222222222222,
             "#7201a8"
            ],
            [
             0.3333333333333333,
             "#9c179e"
            ],
            [
             0.4444444444444444,
             "#bd3786"
            ],
            [
             0.5555555555555556,
             "#d8576b"
            ],
            [
             0.6666666666666666,
             "#ed7953"
            ],
            [
             0.7777777777777778,
             "#fb9f3a"
            ],
            [
             0.8888888888888888,
             "#fdca26"
            ],
            [
             1,
             "#f0f921"
            ]
           ]
          },
          "colorway": [
           "#636efa",
           "#EF553B",
           "#00cc96",
           "#ab63fa",
           "#FFA15A",
           "#19d3f3",
           "#FF6692",
           "#B6E880",
           "#FF97FF",
           "#FECB52"
          ],
          "font": {
           "color": "#2a3f5f"
          },
          "geo": {
           "bgcolor": "white",
           "lakecolor": "white",
           "landcolor": "#E5ECF6",
           "showlakes": true,
           "showland": true,
           "subunitcolor": "white"
          },
          "hoverlabel": {
           "align": "left"
          },
          "hovermode": "closest",
          "mapbox": {
           "style": "light"
          },
          "paper_bgcolor": "white",
          "plot_bgcolor": "#E5ECF6",
          "polar": {
           "angularaxis": {
            "gridcolor": "white",
            "linecolor": "white",
            "ticks": ""
           },
           "bgcolor": "#E5ECF6",
           "radialaxis": {
            "gridcolor": "white",
            "linecolor": "white",
            "ticks": ""
           }
          },
          "scene": {
           "xaxis": {
            "backgroundcolor": "#E5ECF6",
            "gridcolor": "white",
            "gridwidth": 2,
            "linecolor": "white",
            "showbackground": true,
            "ticks": "",
            "zerolinecolor": "white"
           },
           "yaxis": {
            "backgroundcolor": "#E5ECF6",
            "gridcolor": "white",
            "gridwidth": 2,
            "linecolor": "white",
            "showbackground": true,
            "ticks": "",
            "zerolinecolor": "white"
           },
           "zaxis": {
            "backgroundcolor": "#E5ECF6",
            "gridcolor": "white",
            "gridwidth": 2,
            "linecolor": "white",
            "showbackground": true,
            "ticks": "",
            "zerolinecolor": "white"
           }
          },
          "shapedefaults": {
           "line": {
            "color": "#2a3f5f"
           }
          },
          "ternary": {
           "aaxis": {
            "gridcolor": "white",
            "linecolor": "white",
            "ticks": ""
           },
           "baxis": {
            "gridcolor": "white",
            "linecolor": "white",
            "ticks": ""
           },
           "bgcolor": "#E5ECF6",
           "caxis": {
            "gridcolor": "white",
            "linecolor": "white",
            "ticks": ""
           }
          },
          "title": {
           "x": 0.05
          },
          "xaxis": {
           "automargin": true,
           "gridcolor": "white",
           "linecolor": "white",
           "ticks": "",
           "title": {
            "standoff": 15
           },
           "zerolinecolor": "white",
           "zerolinewidth": 2
          },
          "yaxis": {
           "automargin": true,
           "gridcolor": "white",
           "linecolor": "white",
           "ticks": "",
           "title": {
            "standoff": 15
           },
           "zerolinecolor": "white",
           "zerolinewidth": 2
          }
         }
        },
        "title": {
         "text": "Lord of the Rings Story"
        },
        "width": 800,
        "xaxis": {
         "showgrid": false,
         "visible": false,
         "zeroline": false
        },
        "yaxis": {
         "showgrid": false,
         "visible": false,
         "zeroline": false
        }
       }
      }
     },
     "metadata": {},
     "output_type": "display_data"
    }
   ],
   "source": [
    "story_data = load_story_json(\"lord_of_the_rings_story3.json\")\n",
    "\n",
    "def visualize_story(story_data, theme):\n",
    "    \"\"\"Visualize the story graph with Plotly.\"\"\"\n",
    "    G, attrs, root = build_story_graph(story_data)\n",
    "\n",
    "    attrs[root]['__visited'] = True\n",
    "    highlight = [root]\n",
    "\n",
    "    pos_lr = flat_tree_layout(G, root)\n",
    "    pos = {node: (y, -x) for node, (x, y) in pos_lr.items()}\n",
    "\n",
    "    fig = story_fig(\n",
    "        G,\n",
    "        attrs,\n",
    "        pos,\n",
    "        highlight=highlight,\n",
    "        title=theme\n",
    "    )\n",
    "    fig.update_layout(\n",
    "        width=800,\n",
    "        height=1000,\n",
    "        margin=dict(l=50, r=50, t=50, b=50),\n",
    "        xaxis=dict(showgrid=False, zeroline=False, visible=False),\n",
    "        yaxis=dict(showgrid=False, zeroline=False, visible=False),\n",
    "    )\n",
    "    fig.show()\n",
    "\n",
    "visualize_story(story_data, \"Lord of the Rings Story\")\n"
   ]
  }
 ],
 "metadata": {
  "kernelspec": {
   "display_name": ".venv",
   "language": "python",
   "name": "python3"
  },
  "language_info": {
   "codemirror_mode": {
    "name": "ipython",
    "version": 3
   },
   "file_extension": ".py",
   "mimetype": "text/x-python",
   "name": "python",
   "nbconvert_exporter": "python",
   "pygments_lexer": "ipython3",
   "version": "3.13.2"
  }
 },
 "nbformat": 4,
 "nbformat_minor": 4
}
